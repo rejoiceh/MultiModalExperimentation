{
 "cells": [
  {
   "cell_type": "markdown",
   "id": "34431fd1",
   "metadata": {},
   "source": [
    "# Image-to-Text Experimentation - LLaVA, LLaVA-Phi3, BakLLaVA (Ollama)\n",
    "\n",
    "Rejoice Hu, 2024"
   ]
  },
  {
   "cell_type": "markdown",
   "id": "042a2cbd",
   "metadata": {},
   "source": [
    "## Setup\n",
    "https://www.youtube.com/watch?v=_TUvb6NtpGA\n",
    "https://ollama.com/library/llava"
   ]
  },
  {
   "cell_type": "code",
   "execution_count": 1,
   "id": "57cbe5e2",
   "metadata": {},
   "outputs": [],
   "source": [
    "import ollama\n",
    "from ollama import generate\n",
    "\n",
    "import glob\n",
    "import pandas as pd\n",
    "from PIL import Image\n",
    "\n",
    "import os\n",
    "from io import BytesIO"
   ]
  },
  {
   "cell_type": "code",
   "execution_count": 2,
   "id": "dc7aa259",
   "metadata": {},
   "outputs": [],
   "source": [
    "# Load dataframe from csv file, or create new df if the file doesn't exist\n",
    "def load_or_create_dataframe(filename):\n",
    "    if os.path.isfile(filename):\n",
    "        df = pd.read_csv(filename)\n",
    "    else:\n",
    "        df = pd.DataFrame(columns=['image_file', 'description'])\n",
    "    return df"
   ]
  },
  {
   "cell_type": "code",
   "execution_count": 3,
   "id": "16bbeacb",
   "metadata": {},
   "outputs": [
    {
     "data": {
      "text/html": [
       "<div>\n",
       "<style scoped>\n",
       "    .dataframe tbody tr th:only-of-type {\n",
       "        vertical-align: middle;\n",
       "    }\n",
       "\n",
       "    .dataframe tbody tr th {\n",
       "        vertical-align: top;\n",
       "    }\n",
       "\n",
       "    .dataframe thead th {\n",
       "        text-align: right;\n",
       "    }\n",
       "</style>\n",
       "<table border=\"1\" class=\"dataframe\">\n",
       "  <thead>\n",
       "    <tr style=\"text-align: right;\">\n",
       "      <th></th>\n",
       "      <th>image_file</th>\n",
       "      <th>description</th>\n",
       "    </tr>\n",
       "  </thead>\n",
       "  <tbody>\n",
       "    <tr>\n",
       "      <th>0</th>\n",
       "      <td>./images/ms_welcome.png</td>\n",
       "      <td>The image is a screenshot of a webpage featur...</td>\n",
       "    </tr>\n",
       "  </tbody>\n",
       "</table>\n",
       "</div>"
      ],
      "text/plain": [
       "                image_file                                        description\n",
       "0  ./images/ms_welcome.png   The image is a screenshot of a webpage featur..."
      ]
     },
     "execution_count": 3,
     "metadata": {},
     "output_type": "execute_result"
    }
   ],
   "source": [
    "df = load_or_create_dataframe('image_descriptions.csv')\n",
    "\n",
    "df"
   ]
  },
  {
   "cell_type": "code",
   "execution_count": 4,
   "id": "d4294c16",
   "metadata": {},
   "outputs": [
    {
     "name": "stdout",
     "output_type": "stream",
     "text": [
      "['./images/ms_tech.png', './images/ms_welcome.png']\n",
      "                image_file                                        description\n",
      "0  ./images/ms_welcome.png   The image is a screenshot of a webpage featur...\n"
     ]
    }
   ],
   "source": [
    "def get_png_files(folder_path):\n",
    "    return glob.glob(f\"{folder_path}/*.png\")\n",
    "\n",
    "# Get list of image files in the folder\n",
    "image_files = get_png_files(\"./images\") \n",
    "image_files.sort()\n",
    "\n",
    "print(image_files[:3])\n",
    "print(df.head())"
   ]
  },
  {
   "cell_type": "code",
   "execution_count": 1,
   "id": "6345e02b",
   "metadata": {},
   "outputs": [],
   "source": [
    "# import base64\n",
    "def process_image(image_file, model, prompt, temperature=0.8):\n",
    "    print(f\"\\nModel: {model} - Processing {image_file}\\n\")\n",
    "    \n",
    "    # Process image / convert to base64 encoding\n",
    "    with Image.open(image_file) as img:\n",
    "        with BytesIO() as buffer:\n",
    "            img.save(buffer, format='PNG')\n",
    "            image_bytes = buffer.getvalue()\n",
    "            # img_str = base64.b64encode(image_bytes)\n",
    "\n",
    "    full_response = ''\n",
    "    # Generate response for the image\n",
    "    for response in generate(model=model, \n",
    "                             prompt=prompt,\n",
    "                             images=[image_bytes], \n",
    "                             options={\"temperature\": temperature},\n",
    "                             stream=True):\n",
    "        # Print the response to the console and add it to the full response\n",
    "        print(response['response'], end='', flush=True)\n",
    "        full_response += response['response']\n",
    "\n",
    "    # Add new row to the DataFrame\n",
    "    df.loc[len(df)] = [image_file, full_response]"
   ]
  },
  {
   "cell_type": "code",
   "execution_count": 12,
   "id": "dd255b54",
   "metadata": {},
   "outputs": [],
   "source": [
    "# change image processing: just file path instead of base64 encoding\n",
    "def process_image2(image_file, model, prompt, temperature):\n",
    "    print(f\"\\nModel: {model} - Processing {image_file}\\n\")\n",
    "\n",
    "    full_response = ''\n",
    "    # Generate a description of the image\n",
    "    for response in generate(model=model, \n",
    "                             prompt=prompt,\n",
    "                             images=[image_file], \n",
    "                             options={\"temperature\": temperature},\n",
    "                             stream=True):\n",
    "        # Print the response to the console and add it to the full response\n",
    "        print(response['response'], end='', flush=True)\n",
    "        full_response += response['response']\n",
    "\n",
    "    # Add a new row to the DataFrame\n",
    "    df.loc[len(df)] = [image_file, full_response]"
   ]
  },
  {
   "cell_type": "markdown",
   "id": "ade5de45",
   "metadata": {},
   "source": [
    "## LLaVA through Ollama\n",
    "https://ollama.com/library/llava"
   ]
  },
  {
   "cell_type": "code",
   "execution_count": null,
   "id": "903150fc",
   "metadata": {},
   "outputs": [],
   "source": [
    "prompt1=\"Describe this image and make sure to include anything notable about it (include text you see in the image):', "
   ]
  },
  {
   "cell_type": "code",
   "execution_count": 8,
   "id": "f24ff49c",
   "metadata": {},
   "outputs": [
    {
     "name": "stdout",
     "output_type": "stream",
     "text": [
      "\n",
      "Processing ./images/ms_welcome.png\n",
      "\n",
      " The image is a screenshot of a webpage featuring an article about Morgan Stanley's involvement in the rollercoaster ride at the 2020 Democratic National Convention. The headline reads \"What We Do.\" Below this, there are two images: one of a rollercoaster with a group of individuals riding on it and another showing a rollercoaster with American flags prominently displayed.\n",
      "\n",
      "There is text overlaying the image that includes statistics about Morgan Stanley's political contributions. It mentions \"Morgan Stanley gave $138,040 to Democratic candidates\" and states \"The top recipients of this money include Joe Biden's campaign ($276,524) and the DNC ($591,736).\"\n",
      "\n",
      "Additionally, there is a disclaimer that says \"These figures are based on publicly available data and may not be exhaustive.\" The webpage is from a news or political analysis site, as indicated by the logo at the top left corner. The style of the image suggests it is intended for informational or analytical purposes, likely to provide a visual representation of campaign finance data in relation to the event mentioned in the headline. "
     ]
    }
   ],
   "source": [
    "for image_file in image_files:\n",
    "    if image_file not in df['image_file'].values:\n",
    "        process_image(image_file, \"llava\", prompt1) #latest: 7b-v1.6"
   ]
  },
  {
   "cell_type": "code",
   "execution_count": 9,
   "id": "c54bc25a",
   "metadata": {},
   "outputs": [],
   "source": [
    "# Save the DataFrame to a CSV file\n",
    "# df.to_csv('image_descriptions.csv', index=False)"
   ]
  },
  {
   "cell_type": "markdown",
   "id": "c94a8edc",
   "metadata": {},
   "source": [
    "#### ANALYSIS\n",
    "\n",
    "ACCURATE:\n",
    "- headline reads \"What We Do\"\n",
    "- recognizes rollercoaster ride with American flags\n",
    "- style is informational\n",
    "\n",
    "INACCURATE:\n",
    "- there is 1 image only, not 2\n",
    "- hallucinations: \n",
    "    - involvement in 2020 Democratic National Convention\n",
    "    - statistics about MS's political contributions\n",
    "    - mentioning lots of text that do not exist in the actual screenshot (\"Morgan Stanley gave $138,040 to Democratic candidates\", disclaimer at the bottom)\n",
    "- missing rest of the menu and most of the text\n",
    "\n",
    "OVERALL ANALYSIS: \n",
    "extremely high incidence of hallucinations, description is more inaccurate than accurate\n",
    "\n",
    "POSSIBLE CAUSES: \n",
    "prompt is not specific enough, model is too simple -- to improve: specify the kind of information we are interested in learning about the image"
   ]
  },
  {
   "cell_type": "code",
   "execution_count": 17,
   "id": "0c8b5c43",
   "metadata": {},
   "outputs": [
    {
     "name": "stdout",
     "output_type": "stream",
     "text": [
      "\n",
      "Model: llava - Processing ./images/ms_welcome.png\n",
      "\n",
      " The image displays a screenshot of a webpage. At the top of the page, there is a navigation bar with links such as \"Home,\" \"About Us,\" \"Blog,\" \"Contact Us,\" and a menu icon on the right side. Below this, centered on the page, is a large header image showing an American flag on a pole, with a clear blue sky in the background. To the left of the flag, there's text that reads \"MORGAN STANLEY,\" indicating the name associated with the content of the webpage.\n",
      "\n",
      "Just beneath the header, centered again, is a tagline or slogan that says \"WHAT WE DO.\" This is likely part of the branding and messaging strategy for the company represented on the page. Below this tagline, there are additional menu items including \"Blog,\" \"Investment Strategies,\" and \"Research & Insights.\" These seem to be categories or sections within the site's content structure.\n",
      "\n",
      "The overall color scheme of the webpage is primarily white with text in a darker font color, creating a clean and professional appearance. The use of blue for the header image adds a subtle contrast and could imply an association with trust or reliability, often linked to blue as a color choice in branding. "
     ]
    }
   ],
   "source": [
    "# PROMPT ENGINEERING: \n",
    "prompt2='Describe this image in as much detail as possible within 3 paragraphs, focusing on the structure, position/coordinates, and color of ALL the different elements like text, images, menu items, links, etc.'\n",
    "\n",
    "for image_file in image_files:\n",
    "#     if image_file not in df['image_file'].values:\n",
    "        process_image(image_file, \"llava\", prompt2) #7b-v1.6"
   ]
  },
  {
   "cell_type": "markdown",
   "id": "64d93dfb",
   "metadata": {},
   "source": [
    "#### ANALYSIS\n",
    "\n",
    "ACCURATE:\n",
    "- recognizes some kind of navigation bar with links at the top righthand of the page that includes \n",
    "\"Home,\" \"About Us,\" \"Blog,\" \"Contact Us\"\n",
    "- recognizes presence of American flag and clear blue sky in the background\n",
    "- position of image = below menu and centered on page, \"MORGAN STANLEY\" text = left of the flag\n",
    "- \"WHAT WE DO\" is indeed below the header\n",
    "- accurate color scheme\n",
    "    - primarily white with text in a darker font color, creating a clean and professional appearance\n",
    "    - header image is mainly blue\n",
    "\n",
    "INACCURATE:\n",
    "- hallucinations: \n",
    "    - made up menu items \"Blog,\" \"Contact Us\"\n",
    "    - made up additional menu below \"WHAT WE DO\" - \"Blog,\" \"Investment Strategies,\" and \"Research & Insights.\"\n",
    "- missing rest of the menu\n",
    "- no mention of rollercoaster for the image\n",
    "- \"WHAT WE DO\" is on the left, NOT centered\n",
    "\n",
    "    \n",
    "OVERALL ANALYSIS: \n",
    "fewer hallucinations resulted with the more detailed prompt, but description still contains too many inaccuracies/hallucinated content\n",
    "\n",
    "POSSIBLE CAUSES: \n",
    "prompt engineering, model is too simple -- to improve: would like to focus more on how to navigate the page instead of color"
   ]
  },
  {
   "cell_type": "code",
   "execution_count": 18,
   "id": "d89cd7d4",
   "metadata": {},
   "outputs": [
    {
     "name": "stdout",
     "output_type": "stream",
     "text": [
      "\n",
      "Model: llava - Processing ./images/ms_welcome.png\n",
      "\n",
      " The image displays a screenshot of a webpage. At the top, there is a header with the logo and name \"Morgan Stanley\" on the left side. Next to the logo, there is a navigation bar with menu items such as \"Home,\" \"Markets,\" \"Research,\" \"Trading,\" \"Wealth,\" \"Insights,\" and others, but the full text of all the menu items is not visible due to the resolution of the image.\n",
      "\n",
      "Below the header, the main content area shows a large banner with a background image of an amusement ride in a park-like setting during what appears to be dusk or dawn, with the sky showing various hues of blue and orange. In front of this background, there is a dark-colored overlay containing text. The text reads \"WHAT WE DO\" in white capital letters at the top of the banner. Below this title, there are three bullet points each describing a different area of the company's activities: \"CUSTOMIZED INVESTMENT SOLUTIONS,\" \"GLOBAL RESEARCH AND ANALYSIS,\" and \"EXCLUSIVE ACCESS TO COMPANY EVENTS.\"\n",
      "\n",
      "The bottom part of the screenshot displays a footer with additional text, although it is not fully visible due to the image's resolution. The footer includes what appears to be links or contact information but is too small to read clearly.\n",
      "\n",
      "The overall color scheme of the webpage is dark and light, with the overlay providing a contrast against the lighter background of the amusement ride banner. The style of the image is a typical screenshot of a website with text overlaying an image, designed for informational or promotional purposes. "
     ]
    }
   ],
   "source": [
    "# PROMPT ENGINEERING: \n",
    "prompt3='Describe this image in as much detail as possible within 250 words, focusing on the text, position/coordinates/navigation, color, etc. of ALL the different components like text, images, menu items, links, etc.'\n",
    "\n",
    "for image_file in image_files:\n",
    "#     if image_file not in df['image_file'].values:\n",
    "        process_image(image_file, \"llava\", prompt3) #7b-v1.6"
   ]
  },
  {
   "cell_type": "markdown",
   "id": "632071ae",
   "metadata": {},
   "source": [
    "#### ANALYSIS\n",
    "\n",
    "ACCURATE:\n",
    "- recognizes header with the logo and name \"Morgan Stanley\" on the top left\n",
    "- recognizes navigation bar with menu items next to the logo such\n",
    "- accurate description of image and its position (below header, amusement park at dusk/dawn)\n",
    "- recognizes \"WHAT WE DO\" text\n",
    "- recognizes existence of text at the very bottom of the image, and it contains a link\n",
    "- color scheme does indeed convey the website is for informational purposes\n",
    "\n",
    "INACCURATE:\n",
    "- hallucinations: \n",
    "    - made up menu items \"Home,\" \"Markets,\" \"Research,\" \"Trading,\" \"Wealth,\" \"Insights,\" and others\n",
    "    - made up text below \"WHAT WE DO\" text: there does NOT EXIST three bullet points each describing a different area of the company's activities: \"CUSTOMIZED INVESTMENT SOLUTIONS,\" \"GLOBAL RESEARCH AND ANALYSIS,\" and \"EXCLUSIVE ACCESS TO COMPANY EVENTS.\"\n",
    "- falsely claims that \"WHAT WE DO\" is in white capital letters at the top of the image (wrong color + position)\n",
    "- image: missing mention of American flags\n",
    "\n",
    "    \n",
    "OVERALL ANALYSIS: \n",
    "fewer hallucinations resulted with the more detailed prompt compared to prompt1 and contains more navigational details, but description still contains too many inaccuracies/hallucinated content + possibly more hallucinations than prompt2\n",
    "\n",
    "POSSIBLE CAUSES: \n",
    "temperature/creativity is too high, model is too simple -- to improve: lower the temperature of the model"
   ]
  },
  {
   "cell_type": "code",
   "execution_count": 11,
   "id": "6a1adbd7",
   "metadata": {},
   "outputs": [
    {
     "name": "stdout",
     "output_type": "stream",
     "text": [
      "\n",
      "Model: llava - Processing ./images/ms_welcome.png\n",
      "\n",
      " The image is a screenshot of a webpage with a predominantly white background. At the top, there's a navigation bar with menu items such as \"Home,\" \"About Us,\" \"Contact Us,\" and \"Careers.\" Below this, in the center of the page, there's a large image of an amusement park ride with several people seated on it. The ride appears to be in motion, suggesting a dynamic scene.\n",
      "\n",
      "On the right side of the page, there is a section titled \"Morgan Stanley\" in bold black letters. Below this title, there are two columns of text. The left column contains the name \"MORGAN STANLEY\" repeated twice in large black font, followed by a subtitle that reads \"WHAT WE DO\" in smaller black font. The right column lists various items related to Morgan Stanley's services and offerings, including \"Investment Banking,\" \"Equity Capital Markets,\" \"Fixed Income,\" \"Asset Management,\" and \"Wealth Management.\"\n",
      "\n",
      "The bottom of the page features a footer with additional text that includes phrases like \"Privacy Statement,\" \"Terms of Use,\" \"Accessibility Statement,\" \"Copyright Information,\" and \"Morgan Stanley & Co. LLC.\" The overall style of the image is informational and corporate, typical of a professional financial institution's website. "
     ]
    }
   ],
   "source": [
    "for image_file in image_files:\n",
    "#     if image_file not in df['image_file'].values:\n",
    "        process_image(image_file, \"llava\", prompt3, 0.3) #7b-v1.6"
   ]
  },
  {
   "cell_type": "markdown",
   "id": "c590b4c3",
   "metadata": {},
   "source": [
    "#### ANALYSIS\n",
    "\n",
    "ACCURATE:\n",
    "- recognizes predominantly white background\n",
    "- recognizes presence of navigation bar at the correct position (top) and text \"About Us\" and \"Careers\"\n",
    "- recognizes presence of image at the correct position (below menu and center of page) and content (amusement park ride)\n",
    "- recognizes \"Morgan Stanley\" text and color (black)\n",
    "- recognizes \"WHAT WE DO\" text and color (black)\n",
    "- recognizes presence of text at the bottom\n",
    "- accurate description of style of image\n",
    "\n",
    "INACCURATE:\n",
    "- hallucinations: \n",
    "    - made up menu items \"Home,\" \"Contact Us,\"\n",
    "    - \"MORGAN STANLEY\" is NOT repeated twice\n",
    "    - made up services+offerings \"Investment Banking,\" \"Equity Capital Markets,\" \"Fixed Income,\" \"Asset Management,\" and \"Wealth Management.\"\n",
    "    - footer text \"Privacy Statement,\" \"Terms of Use,\" \"Accessibility Statement,\" \"Copyright Information,\" and \"Morgan Stanley & Co. LLC.\"\n",
    "- \"Morgan Stanley\" text is NOT on the right-hand side\n",
    "\n",
    "    \n",
    "OVERALL ANALYSIS: \n",
    "didn't perform that much better in terms of hallucinations compared to higher temperature, also less detailed\n",
    "\n",
    "POSSIBLE CAUSES: \n",
    "model is too simple\n",
    "    \n",
    "##### GENERAL OBSERVATIONS/PATTERNS\n",
    "- \"Morgan Stanley\" header text + position is often recognized and mostly accurate\n",
    "- recognizes presence of header image and mostly captures essence of the image\n",
    "- color analysis is accurate\n",
    "- the text inside the header image is NEVER mentioned / always skipped\n",
    "- the most amount of hallucinated content come from describing the the menu items on the top right"
   ]
  },
  {
   "cell_type": "code",
   "execution_count": 25,
   "id": "bd7bce18",
   "metadata": {},
   "outputs": [
    {
     "name": "stdout",
     "output_type": "stream",
     "text": [
      "\n",
      "Model: llava - Processing ./images/ms_welcome.png\n",
      "\n",
      " The image displays a screenshot of a webpage with a predominantly white background. At the top, there is a navigation bar with text that reads \"MORGAN STANLEY\" in uppercase letters. Below this, on the left side of the page, there is a vertical menu with items such as \"Home,\" \"About Us,\" \"Careers,\" and \"Contact Us.\"\n",
      "\n",
      "The main content area features a large image of a roller coaster with several people riding it. The roller coaster is set against a clear sky background. Overlaying the image are two pieces of text in different fonts and sizes. The larger text at the top reads \"WHAT WE DO\" in bold, uppercase letters. Below this, there is smaller text that says \"Morgan Stanley is a leading global financial services firm.\"\n",
      "\n",
      "On the right side of the page, there is additional text providing information about Morgan Stanley's commitment to diversity and inclusion, with bullet points detailing their efforts in this area. The text mentions \"100%\" and \"50/50,\" which could refer to gender or racial diversity goals.\n",
      "\n",
      "The overall style of the image suggests a corporate website design, with a focus on branding and company information. The color scheme is minimalistic, using shades of gray and white for the text and background, with the roller coaster image providing a contrasting element in color. "
     ]
    }
   ],
   "source": [
    "# LOWER THE TEMPERATURE EVEN MORE (0.0)\n",
    "for image_file in image_files:\n",
    "#     if image_file not in df['image_file'].values:\n",
    "        process_image(image_file, \"llava\", prompt3, 0.0) #7b-v1.6"
   ]
  },
  {
   "cell_type": "markdown",
   "id": "ba42dea0",
   "metadata": {},
   "source": [
    "### REDUCING HALLUCINATIONS"
   ]
  },
  {
   "cell_type": "code",
   "execution_count": 14,
   "id": "022b62b2",
   "metadata": {},
   "outputs": [
    {
     "name": "stdout",
     "output_type": "stream",
     "text": [
      "\n",
      "Model: llava - Processing ./images/ms_welcome.png\n",
      "\n",
      " The image displays a screenshot of a website with the URL \"morganstanley.com\" visible in the address bar at the top of the browser window. The main focus of the webpage appears to be an article or blog post titled \"What we do.\" The text on the page is not entirely legible due to the angle and quality of the image, but there are several elements that can be discerned:\n",
      "\n",
      "1. In the top right corner, there's a navigation menu with items like \"Home,\" \"About,\" \"Contact,\" \"Blog,\" \"Portfolio,\" \"Services,\" \"Privacy Policy,\" and \"Terms of Service.\"\n",
      "2. Below the navigation menu is a header section with a subheading that reads \"Morgan Stanley\" in bold font, followed by a smaller text that says \"Morgan Stanley is a global financial services firm.\"\n",
      "3. The main content area of the webpage features an image of a roller coaster with multiple cars and passengers visible, set against a clear blue sky.\n",
      "4. Below the image of the roller coaster are several bullet points, but the text within them is not fully legible due to the angle and quality of the image. The bullet points appear to be part of an article or blog post discussing the services offered by Morgan Stanley.\n",
      "5. To the left side of the webpage, there's a vertical menu with items like \"What we do,\" \"Who we are,\" \"Our values,\" \"Careers,\" \"Investment Management,\" and \"Institutional Equity.\"\n",
      "6. At the bottom of the webpage, there is a footer with additional navigation links such as \"Site Map,\" \"Privacy Policy,\" \"Terms of Use,\" and \"Accessibility Statement.\"\n",
      "7. The overall color scheme of the website is predominantly white, blue, and black, which are typical colors used for professional or corporate websites to convey a sense of trustworthiness and reliability.\n",
      "\n",
      "The image does not provide clear text details, so I am unable to provide specific information regarding the content of the bullet points or the full text of any other elements on the webpage. "
     ]
    }
   ],
   "source": [
    "prompt5='Describe this image in as much detail as possible. Describe the text, position/coordinates/navigation, color, etc. of ALL the different components like text, images, menu items, links, etc. Only describe what you can see.'\n",
    "\n",
    "for image_file in image_files:\n",
    "#     if image_file not in df['image_file'].values:\n",
    "        process_image(image_file, \"llava\", prompt5)"
   ]
  },
  {
   "cell_type": "code",
   "execution_count": 18,
   "id": "d6859d65",
   "metadata": {},
   "outputs": [
    {
     "name": "stdout",
     "output_type": "stream",
     "text": [
      "\n",
      "Model: llava - Processing ./images/ms_welcome.png\n",
      "\n",
      " The image displays a screenshot of a webpage. At the top of the page, there is a navigation bar with menu items such as \"Home,\" \"About,\" \"Contact,\" and \"Log In.\" Below this, the main content area features a large photograph of a roller coaster with several people riding it. The roller coaster is set against a clear sky background.\n",
      "\n",
      "The central part of the page contains text that reads \"MORGAN STANLEY\" in bold, uppercase letters, indicating the name associated with the content or organization represented by the webpage. Below this, there's a subheading that says \"WHAT WE DO,\" followed by a list of bullet points detailing the company's services and focus areas such as \"Election Management,\" \"Campaign Strategy,\" \"Digital Advertising,\" and \"Data Analytics.\"\n",
      "\n",
      "To the right of this text, there is a section titled \"OUR TEAM\" with placeholder images of people, suggesting that this area would typically show actual team members. Each placeholder image has a name and a brief description, though these are not filled in on the screenshot.\n",
      "\n",
      "The bottom part of the page contains additional information about the company's services, which includes \"Digital Advertising,\" \"Data Analytics,\" \"Election Management,\" and \"Campaign Strategy.\" This section also mentions \"Voter Engagement\" and \"Grassroots Organizing.\"\n",
      "\n",
      "The overall color scheme of the webpage is a mix of white for the text, blue for the navigation bar, and various shades of gray for the background. The roller coaster image has a warm tone, likely due to the lighting in the photograph. "
     ]
    }
   ],
   "source": [
    "# prompt6='Describe this image in as much detail as possible within 3 paragraphs. Describe the text, position/coordinates/navigation, color, etc. of ALL the different components like text, images, menu items, links, etc. Only describe what you can see.'\n",
    "prompt3='Describe this image in as much detail as possible within 250 words, focusing on the text, position/coordinates/navigation, color, etc. of ALL the different components like text, images, menu items, links, etc.'\n",
    "\n",
    "for image_file in image_files:\n",
    "#     if image_file not in df['image_file'].values:\n",
    "        process_image4(image_file, \"llava\", prompt3)"
   ]
  },
  {
   "cell_type": "code",
   "execution_count": 22,
   "id": "2140f7d6",
   "metadata": {},
   "outputs": [
    {
     "name": "stdout",
     "output_type": "stream",
     "text": [
      "\n",
      "Model: llava - Processing ./images/ms_welcome.png\n",
      "\n",
      " The image displays a screenshot of a webpage. At the top, there is a navigation bar with menu items such as \"Home,\" \"About Us,\" \"Contact Us,\" and \"Blog.\" Below this, the main content area features a large image of a roller coaster with several people riding it. The roller coaster is set against a clear sky background.\n",
      "\n",
      "On the right side of the page, there is a vertical column with text that reads \"Morgan Stanley\" at the top and \"What We Do\" below it. Below this heading, there are bullet points listing various activities or services provided by the company. The text is black on a white background.\n",
      "\n",
      "The bottom part of the image shows a footer with additional information about the company's activities and values. This section includes a list of items such as \"Sustainability,\" \"Diversity & Inclusion,\" \"Community Development,\" and \"Corporate Responsibility.\" The text is smaller than the main content area and is also black on a white background.\n",
      "\n",
      "The overall style of the image suggests it's a screenshot from a corporate website, with a clean and professional design. The colors used are primarily shades of blue, red, and white, which are typical for corporate branding. "
     ]
    }
   ],
   "source": [
    "prompt6='Describe this image in as much detail as possible within 3 paragraphs. Describe the text, position/coordinates/navigation, color, etc. of ALL the different components like text, images, menu items, links, etc. Only describe what you can see.'\n",
    "\n",
    "for image_file in image_files:\n",
    "#     if image_file not in df['image_file'].values:\n",
    "        process_image5(image_file, \"llava\", prompt6)"
   ]
  },
  {
   "cell_type": "code",
   "execution_count": 23,
   "id": "57aa6dca",
   "metadata": {},
   "outputs": [
    {
     "name": "stdout",
     "output_type": "stream",
     "text": [
      "\n",
      "Model: llava - Processing ./images/ms_welcome.png\n",
      "\n",
      " The image displays a screenshot of a website with a predominantly white background. At the top, there is a navigation bar with text that reads \"MORGAN STANLEY\" in uppercase letters. Below this, on the left side of the screen, there is a large image of an American flag waving from a roller coaster car, with several people seated in the cars behind it.\n",
      "\n",
      "In the center of the screenshot, there is a prominent text that reads \"WHAT WE DO\" in uppercase letters, suggesting a section or category on the website. To the right of this central text, there are three smaller images showing different scenes: one with a roller coaster car, another with a person standing next to a building, and a third with a group of people sitting at a table.\n",
      "\n",
      "Below these images, there is a section titled \"OUR SERVICES\" followed by a list of services provided by the company, which includes \"Financial Planning,\" \"Investment Management,\" \"Retirement Planning,\" and \"Estate Planning.\" Each service is listed on a separate line.\n",
      "\n",
      "At the bottom of the screenshot, there is a footer with text that reads \"© 2021 Morgan Stanley. All rights reserved.\" This indicates copyright ownership by Morgan Stanley for the year 2021. The overall style of the image suggests it is a screenshot from a professional financial services company's website. "
     ]
    }
   ],
   "source": [
    "prompt='Describe all the text in this screenshot of a website in as much detail as possible within 3 paragraphs. Describe what the texts read, and their position and coordinates within the image. Only describe what you can see.'\n",
    "\n",
    "for image_file in image_files:\n",
    "#     if image_file not in df['image_file'].values:\n",
    "        process_image5(image_file, \"llava\", prompt)"
   ]
  },
  {
   "cell_type": "code",
   "execution_count": 24,
   "id": "de8297a8",
   "metadata": {},
   "outputs": [
    {
     "name": "stdout",
     "output_type": "stream",
     "text": [
      "\n",
      "Model: llava - Processing ./images/ms_welcome.png\n",
      "\n",
      " The image is a screenshot of a website, specifically the homepage of Morgan Stanley. The website features a large banner at the top with the company's logo on the left and the text \"Morgan Stanley\" in white letters on the right. Below this banner, there are two smaller images placed side by side.\n",
      "\n",
      "The image on the left shows a group of people riding a roller coaster. The roller coaster is predominantly yellow with red accents, and it's set against a clear blue sky. The people on the ride appear to be enjoying themselves, with some waving at the camera.\n",
      "\n",
      "The image on the right depicts an American flag flying high in the air. The flag is red, white, and blue, and it's positioned centrally within the image.\n",
      "\n",
      "Below these images, there are two blocks of text. The first block of text reads \"What we do\" and is accompanied by a small icon of a globe. The second block of text reads \"Our values\" and includes an icon of a person.\n",
      "\n",
      "The website has a clean and professional design with a color scheme that includes shades of blue, white, and yellow. The layout is organized with the banner at the top, followed by the two images, and then the blocks of text. The overall impression is one of a corporate website designed to provide information about the company's activities and values. "
     ]
    }
   ],
   "source": [
    "prompt5='Describe all the images in this screenshot of a website in as much detail as possible within 3 paragraphs. Describe the content of each image, the colors, and their position and coordinates within the image with respect to all the other components of the website. Only describe what you can see.'\n",
    "\n",
    "for image_file in image_files:\n",
    "#     if image_file not in df['image_file'].values:\n",
    "        process_image5(image_file, \"llava\", prompt5)"
   ]
  },
  {
   "cell_type": "code",
   "execution_count": 12,
   "id": "94bf4417",
   "metadata": {},
   "outputs": [
    {
     "name": "stdout",
     "output_type": "stream",
     "text": [
      "\n",
      "Model: llava - Processing ./images/ms_welcome.png\n",
      "\n",
      " The image displays a screenshot of a website with a predominantly white background. At the top, there is a navigation bar with text that reads \"MORGAN STANLEY\" in uppercase letters. Below this, on the left side of the screen, there is a large image of an American flag waving from a roller coaster car, with several people seated in the cars behind it.\n",
      "\n",
      "In the center of the screenshot, there is a prominent text that reads \"WHAT WE DO\" in uppercase letters, suggesting a section or category on the website. To the right of this central text, there are three smaller images showing different scenes: one with a roller coaster car, another with a person standing next to a building, and a third with a group of people sitting at a table.\n",
      "\n",
      "Below these images, there is a section titled \"OUR SERVICES\" followed by a list of services provided by the company, which includes \"Financial Planning,\" \"Investment Management,\" \"Retirement Planning,\" and \"Estate Planning.\" Each service is listed on a separate line.\n",
      "\n",
      "At the bottom of the screenshot, there is a footer with text that reads \"© 2021 Morgan Stanley. All rights reserved.\" This indicates copyright ownership by Morgan Stanley for the year 2021. The overall style of the image suggests it is a screenshot from a professional financial services company's website. "
     ]
    }
   ],
   "source": [
    "prompt='Describe all the text in this screenshot of a website in as much detail as possible within 3 paragraphs. Describe what the texts read, and their position and coordinates within the image. Only describe what you can see.'\n",
    "\n",
    "for image_file in image_files:\n",
    "#     if image_file not in df['image_file'].values:\n",
    "        process_image(image_file, \"llava\", prompt, 0.0)"
   ]
  },
  {
   "cell_type": "code",
   "execution_count": 13,
   "id": "a5464742",
   "metadata": {},
   "outputs": [
    {
     "name": "stdout",
     "output_type": "stream",
     "text": [
      "\n",
      "Model: llava - Processing ./images/ms_welcome.png\n",
      "\n",
      " The image is a screenshot of a website, specifically the homepage of Morgan Stanley. The website features a large banner at the top with the company's logo on the left and the text \"Morgan Stanley\" in white letters on the right. Below this banner, there are two smaller images placed side by side.\n",
      "\n",
      "The image on the left shows a group of people riding a roller coaster. The roller coaster is predominantly yellow with red accents, and it's set against a clear blue sky. The people on the ride appear to be enjoying themselves, with some waving at the camera.\n",
      "\n",
      "The image on the right depicts an American flag flying high in the air. The flag is red, white, and blue, and it's positioned centrally within the image.\n",
      "\n",
      "Below these images, there are two blocks of text. The first block of text reads \"What we do\" and is accompanied by a small icon of a globe. The second block of text reads \"Our values\" and includes an icon of a person.\n",
      "\n",
      "The website has a clean and professional design with a color scheme that includes shades of blue, white, and yellow. The layout is organized with the banner at the top, followed by the two images, and then the blocks of text. The overall impression is one of a corporate website designed to provide information about the company's activities and values. "
     ]
    }
   ],
   "source": [
    "prompt='Describe all the images in this screenshot of a website in as much detail as possible within 3 paragraphs. Describe the content of each image, the colors, and their position and coordinates within the image with respect to all the other components of the website. Only describe what you can see.'\n",
    "\n",
    "for image_file in image_files:\n",
    "#     if image_file not in df['image_file'].values:\n",
    "        process_image(image_file, \"llava\", prompt, 0.0)"
   ]
  },
  {
   "cell_type": "markdown",
   "id": "9538f185",
   "metadata": {},
   "source": [
    "## Reducing Hallucinations #2\n",
    "More detailed prompts, also some attempts at few-shot"
   ]
  },
  {
   "cell_type": "code",
   "execution_count": 9,
   "id": "1b65af03",
   "metadata": {},
   "outputs": [],
   "source": [
    "example_img = \"./images/ms_tech.png\"\n",
    "img = \"./images/ms_welcome.png\"\n",
    "image_files = [example_img, img]"
   ]
  },
  {
   "cell_type": "code",
   "execution_count": 35,
   "id": "7aa2d12f",
   "metadata": {},
   "outputs": [
    {
     "name": "stdout",
     "output_type": "stream",
     "text": [
      "\n",
      "Model: llava - Processing ./images/ms_welcome.png\n",
      "\n",
      " The image appears to be a screenshot of a webpage. At the top, there is a navigation bar with menu items such as \"Home,\" \"About Us,\" \"Contact Us,\" and \"Careers.\" Below this, there is a large banner image featuring an American flag and a roller coaster car with passengers in it. The text on the banner reads \"MORGAN STANLEY\" at the top left corner of the banner.\n",
      "\n",
      "Below the banner, there is a section titled \"What We Do,\" which includes bullet points describing the company's services and values. The text is too small to read in detail.\n",
      "\n",
      "To the right of this section, there is a sidebar with additional information about the company, including its history, leadership team, and awards or accolades it has received. This text is also too small to read clearly.\n",
      "\n",
      "At the bottom of the webpage, there is a footer with links to various pages on the website, such as \"Privacy Policy,\" \"Terms of Use,\" and \"Accessibility.\" The text in the footer is not legible due to the image's resolution.\n",
      "\n",
      "The overall style of the webpage suggests it is a corporate or business-related site, with a professional and clean design. The color scheme includes shades of blue, white, and gray, which are typical for corporate websites. "
     ]
    }
   ],
   "source": [
    "# DETAILED PROMPT, NO EXAMPLES YET\n",
    "detailed_prompt=\"\"\"Here is a webpage on a website. Your goal is to describe this webpage to someone who is blind. In as much detail as possible, please describe ALL the components that exist on the webpage, including the text, images, menu items, links, etc. Describe their positions on the webpage, color, etc. For all the text, mention exactly what the text says. Start from the top left of the webpage and work your way down until you reach the end of the webpage, step by step. \n",
    "\n",
    "Rules: Only describe what you can see, otherwise say you are not sure and move on to the next part of the page.\"\"\"\n",
    "\n",
    "process_image(img, \"llava\", detailed_prompt, 0.0)"
   ]
  },
  {
   "cell_type": "code",
   "execution_count": 36,
   "id": "f7f60cb7",
   "metadata": {},
   "outputs": [
    {
     "name": "stdout",
     "output_type": "stream",
     "text": [
      "\n",
      "Model: llava - Processing ./images/ms_tech.png\n",
      "\n",
      " The image appears to be a screenshot of a webpage. At the top, there is a navigation bar with menu items that are not fully visible due to the resolution and angle of the photo. Below this, on the left side of the page, there is a logo with the text \"MORGAN STANLEY\" in capital letters, followed by a tagline or slogan that reads \"EXPLORING TECHNOLOGY & DISRUPTION.\"\n",
      "\n",
      "The main content area features a large image of a blue waveform graphic with a white play button icon superimposed on it. Below this image, there is a section titled \"IDEAS\" with a subtitle that says \"Discover new ways to connect with your audience.\" This section includes two smaller images, one showing a person's hands interacting with a digital interface and the other depicting a smartphone with a graphical user interface.\n",
      "\n",
      "The bottom of the page contains additional text that is not fully legible due to the image quality. The overall color scheme of the webpage is a mix of blue, white, and black, with the waveform graphic being the most prominent visual element. "
     ]
    }
   ],
   "source": [
    "# DETAILED PROMPT, NO EXAMPLES YET -- TECH IMAGE\n",
    "process_image(example_img, \"llava\", detailed_prompt, 0.0)"
   ]
  },
  {
   "cell_type": "code",
   "execution_count": 10,
   "id": "841a6e83",
   "metadata": {},
   "outputs": [],
   "source": [
    "# FEW SHOT PROMPTING, MULTI-IMAGE\n",
    "# def few_shot(image_files, model, system, template, prompt, temperature):\n",
    "def few_shot(image_files, model, prompt, temperature):\n",
    "    print(f\"\\nModel: {model} - Processing {image_files}\\n\")\n",
    "    \n",
    "    images_list = []\n",
    "\n",
    "    # Process the images\n",
    "    for image_file in image_files:\n",
    "        with Image.open(image_file) as img:\n",
    "            with BytesIO() as buffer:\n",
    "                img.save(buffer, format='PNG')\n",
    "                image_bytes = buffer.getvalue()\n",
    "                images_list.append(image_bytes)\n",
    "#     print(\"FINAL images_list: \", images_list[0])\n",
    "    \n",
    "    full_response = ''\n",
    "    # Generate a description of the image\n",
    "    for response in generate(model=model, \n",
    "#                              system=system,\n",
    "#                              template=template,\n",
    "                             prompt=prompt,\n",
    "                             images=images_list, \n",
    "                             options={\"temperature\": temperature},\n",
    "                             stream=True):\n",
    "        # Print the response to the console and add it to the full response\n",
    "        print(response['response'], end='', flush=True)\n",
    "        full_response += response['response']\n",
    "\n",
    "    # Add a new row to the DataFrame\n",
    "    df.loc[len(df)] = [image_file, full_response]"
   ]
  },
  {
   "cell_type": "code",
   "execution_count": 14,
   "id": "4713f0b6",
   "metadata": {},
   "outputs": [
    {
     "name": "stdout",
     "output_type": "stream",
     "text": [
      "\n",
      "Model: llava - Processing ['./images/ms_tech.png', './images/ms_welcome.png']\n",
      "\n",
      " The image you've provided appears to be a screenshot of"
     ]
    },
    {
     "ename": "KeyboardInterrupt",
     "evalue": "",
     "output_type": "error",
     "traceback": [
      "\u001b[0;31m---------------------------------------------------------------------------\u001b[0m",
      "\u001b[0;31mKeyboardInterrupt\u001b[0m                         Traceback (most recent call last)",
      "\u001b[0;32m/var/folders/dl/bxcn0n6d1pj338vdrsngy2_m0000gn/T/ipykernel_1222/1644669038.py\u001b[0m in \u001b[0;36m<module>\u001b[0;34m\u001b[0m\n\u001b[1;32m     35\u001b[0m \"\"\"\n\u001b[1;32m     36\u001b[0m \u001b[0;34m\u001b[0m\u001b[0m\n\u001b[0;32m---> 37\u001b[0;31m \u001b[0mfew_shot\u001b[0m\u001b[0;34m(\u001b[0m\u001b[0mimage_files\u001b[0m\u001b[0;34m,\u001b[0m \u001b[0;34m\"llava\"\u001b[0m\u001b[0;34m,\u001b[0m \u001b[0mdetailed_prompt\u001b[0m\u001b[0;34m,\u001b[0m \u001b[0;36m0.0\u001b[0m\u001b[0;34m)\u001b[0m\u001b[0;34m\u001b[0m\u001b[0;34m\u001b[0m\u001b[0m\n\u001b[0m",
      "\u001b[0;32m/var/folders/dl/bxcn0n6d1pj338vdrsngy2_m0000gn/T/ipykernel_1222/2014559028.py\u001b[0m in \u001b[0;36mfew_shot\u001b[0;34m(image_files, model, prompt, temperature)\u001b[0m\n\u001b[1;32m     17\u001b[0m     \u001b[0mfull_response\u001b[0m \u001b[0;34m=\u001b[0m \u001b[0;34m''\u001b[0m\u001b[0;34m\u001b[0m\u001b[0;34m\u001b[0m\u001b[0m\n\u001b[1;32m     18\u001b[0m     \u001b[0;31m# Generate a description of the image\u001b[0m\u001b[0;34m\u001b[0m\u001b[0;34m\u001b[0m\u001b[0m\n\u001b[0;32m---> 19\u001b[0;31m     for response in generate(model=model, \n\u001b[0m\u001b[1;32m     20\u001b[0m \u001b[0;31m#                              system=system,\u001b[0m\u001b[0;34m\u001b[0m\u001b[0;34m\u001b[0m\u001b[0m\n\u001b[1;32m     21\u001b[0m \u001b[0;31m#                              template=template,\u001b[0m\u001b[0;34m\u001b[0m\u001b[0;34m\u001b[0m\u001b[0m\n",
      "\u001b[0;32m/opt/anaconda3/lib/python3.9/site-packages/ollama/_client.py\u001b[0m in \u001b[0;36m_stream\u001b[0;34m(self, method, url, **kwargs)\u001b[0m\n\u001b[1;32m     84\u001b[0m         \u001b[0;32mraise\u001b[0m \u001b[0mResponseError\u001b[0m\u001b[0;34m(\u001b[0m\u001b[0me\u001b[0m\u001b[0;34m.\u001b[0m\u001b[0mresponse\u001b[0m\u001b[0;34m.\u001b[0m\u001b[0mtext\u001b[0m\u001b[0;34m,\u001b[0m \u001b[0me\u001b[0m\u001b[0;34m.\u001b[0m\u001b[0mresponse\u001b[0m\u001b[0;34m.\u001b[0m\u001b[0mstatus_code\u001b[0m\u001b[0;34m)\u001b[0m \u001b[0;32mfrom\u001b[0m \u001b[0;32mNone\u001b[0m\u001b[0;34m\u001b[0m\u001b[0;34m\u001b[0m\u001b[0m\n\u001b[1;32m     85\u001b[0m \u001b[0;34m\u001b[0m\u001b[0m\n\u001b[0;32m---> 86\u001b[0;31m       \u001b[0;32mfor\u001b[0m \u001b[0mline\u001b[0m \u001b[0;32min\u001b[0m \u001b[0mr\u001b[0m\u001b[0;34m.\u001b[0m\u001b[0miter_lines\u001b[0m\u001b[0;34m(\u001b[0m\u001b[0;34m)\u001b[0m\u001b[0;34m:\u001b[0m\u001b[0;34m\u001b[0m\u001b[0;34m\u001b[0m\u001b[0m\n\u001b[0m\u001b[1;32m     87\u001b[0m         \u001b[0mpartial\u001b[0m \u001b[0;34m=\u001b[0m \u001b[0mjson\u001b[0m\u001b[0;34m.\u001b[0m\u001b[0mloads\u001b[0m\u001b[0;34m(\u001b[0m\u001b[0mline\u001b[0m\u001b[0;34m)\u001b[0m\u001b[0;34m\u001b[0m\u001b[0;34m\u001b[0m\u001b[0m\n\u001b[1;32m     88\u001b[0m         \u001b[0;32mif\u001b[0m \u001b[0me\u001b[0m \u001b[0;34m:=\u001b[0m \u001b[0mpartial\u001b[0m\u001b[0;34m.\u001b[0m\u001b[0mget\u001b[0m\u001b[0;34m(\u001b[0m\u001b[0;34m'error'\u001b[0m\u001b[0;34m)\u001b[0m\u001b[0;34m:\u001b[0m\u001b[0;34m\u001b[0m\u001b[0;34m\u001b[0m\u001b[0m\n",
      "\u001b[0;32m/opt/anaconda3/lib/python3.9/site-packages/httpx/_models.py\u001b[0m in \u001b[0;36miter_lines\u001b[0;34m(self)\u001b[0m\n\u001b[1;32m    859\u001b[0m         \u001b[0mdecoder\u001b[0m \u001b[0;34m=\u001b[0m \u001b[0mLineDecoder\u001b[0m\u001b[0;34m(\u001b[0m\u001b[0;34m)\u001b[0m\u001b[0;34m\u001b[0m\u001b[0;34m\u001b[0m\u001b[0m\n\u001b[1;32m    860\u001b[0m         \u001b[0;32mwith\u001b[0m \u001b[0mrequest_context\u001b[0m\u001b[0;34m(\u001b[0m\u001b[0mrequest\u001b[0m\u001b[0;34m=\u001b[0m\u001b[0mself\u001b[0m\u001b[0;34m.\u001b[0m\u001b[0m_request\u001b[0m\u001b[0;34m)\u001b[0m\u001b[0;34m:\u001b[0m\u001b[0;34m\u001b[0m\u001b[0;34m\u001b[0m\u001b[0m\n\u001b[0;32m--> 861\u001b[0;31m             \u001b[0;32mfor\u001b[0m \u001b[0mtext\u001b[0m \u001b[0;32min\u001b[0m \u001b[0mself\u001b[0m\u001b[0;34m.\u001b[0m\u001b[0miter_text\u001b[0m\u001b[0;34m(\u001b[0m\u001b[0;34m)\u001b[0m\u001b[0;34m:\u001b[0m\u001b[0;34m\u001b[0m\u001b[0;34m\u001b[0m\u001b[0m\n\u001b[0m\u001b[1;32m    862\u001b[0m                 \u001b[0;32mfor\u001b[0m \u001b[0mline\u001b[0m \u001b[0;32min\u001b[0m \u001b[0mdecoder\u001b[0m\u001b[0;34m.\u001b[0m\u001b[0mdecode\u001b[0m\u001b[0;34m(\u001b[0m\u001b[0mtext\u001b[0m\u001b[0;34m)\u001b[0m\u001b[0;34m:\u001b[0m\u001b[0;34m\u001b[0m\u001b[0;34m\u001b[0m\u001b[0m\n\u001b[1;32m    863\u001b[0m                     \u001b[0;32myield\u001b[0m \u001b[0mline\u001b[0m\u001b[0;34m\u001b[0m\u001b[0;34m\u001b[0m\u001b[0m\n",
      "\u001b[0;32m/opt/anaconda3/lib/python3.9/site-packages/httpx/_models.py\u001b[0m in \u001b[0;36miter_text\u001b[0;34m(self, chunk_size)\u001b[0m\n\u001b[1;32m    846\u001b[0m         \u001b[0mchunker\u001b[0m \u001b[0;34m=\u001b[0m \u001b[0mTextChunker\u001b[0m\u001b[0;34m(\u001b[0m\u001b[0mchunk_size\u001b[0m\u001b[0;34m=\u001b[0m\u001b[0mchunk_size\u001b[0m\u001b[0;34m)\u001b[0m\u001b[0;34m\u001b[0m\u001b[0;34m\u001b[0m\u001b[0m\n\u001b[1;32m    847\u001b[0m         \u001b[0;32mwith\u001b[0m \u001b[0mrequest_context\u001b[0m\u001b[0;34m(\u001b[0m\u001b[0mrequest\u001b[0m\u001b[0;34m=\u001b[0m\u001b[0mself\u001b[0m\u001b[0;34m.\u001b[0m\u001b[0m_request\u001b[0m\u001b[0;34m)\u001b[0m\u001b[0;34m:\u001b[0m\u001b[0;34m\u001b[0m\u001b[0;34m\u001b[0m\u001b[0m\n\u001b[0;32m--> 848\u001b[0;31m             \u001b[0;32mfor\u001b[0m \u001b[0mbyte_content\u001b[0m \u001b[0;32min\u001b[0m \u001b[0mself\u001b[0m\u001b[0;34m.\u001b[0m\u001b[0miter_bytes\u001b[0m\u001b[0;34m(\u001b[0m\u001b[0;34m)\u001b[0m\u001b[0;34m:\u001b[0m\u001b[0;34m\u001b[0m\u001b[0;34m\u001b[0m\u001b[0m\n\u001b[0m\u001b[1;32m    849\u001b[0m                 \u001b[0mtext_content\u001b[0m \u001b[0;34m=\u001b[0m \u001b[0mdecoder\u001b[0m\u001b[0;34m.\u001b[0m\u001b[0mdecode\u001b[0m\u001b[0;34m(\u001b[0m\u001b[0mbyte_content\u001b[0m\u001b[0;34m)\u001b[0m\u001b[0;34m\u001b[0m\u001b[0;34m\u001b[0m\u001b[0m\n\u001b[1;32m    850\u001b[0m                 \u001b[0;32mfor\u001b[0m \u001b[0mchunk\u001b[0m \u001b[0;32min\u001b[0m \u001b[0mchunker\u001b[0m\u001b[0;34m.\u001b[0m\u001b[0mdecode\u001b[0m\u001b[0;34m(\u001b[0m\u001b[0mtext_content\u001b[0m\u001b[0;34m)\u001b[0m\u001b[0;34m:\u001b[0m\u001b[0;34m\u001b[0m\u001b[0;34m\u001b[0m\u001b[0m\n",
      "\u001b[0;32m/opt/anaconda3/lib/python3.9/site-packages/httpx/_models.py\u001b[0m in \u001b[0;36miter_bytes\u001b[0;34m(self, chunk_size)\u001b[0m\n\u001b[1;32m    827\u001b[0m             \u001b[0mchunker\u001b[0m \u001b[0;34m=\u001b[0m \u001b[0mByteChunker\u001b[0m\u001b[0;34m(\u001b[0m\u001b[0mchunk_size\u001b[0m\u001b[0;34m=\u001b[0m\u001b[0mchunk_size\u001b[0m\u001b[0;34m)\u001b[0m\u001b[0;34m\u001b[0m\u001b[0;34m\u001b[0m\u001b[0m\n\u001b[1;32m    828\u001b[0m             \u001b[0;32mwith\u001b[0m \u001b[0mrequest_context\u001b[0m\u001b[0;34m(\u001b[0m\u001b[0mrequest\u001b[0m\u001b[0;34m=\u001b[0m\u001b[0mself\u001b[0m\u001b[0;34m.\u001b[0m\u001b[0m_request\u001b[0m\u001b[0;34m)\u001b[0m\u001b[0;34m:\u001b[0m\u001b[0;34m\u001b[0m\u001b[0;34m\u001b[0m\u001b[0m\n\u001b[0;32m--> 829\u001b[0;31m                 \u001b[0;32mfor\u001b[0m \u001b[0mraw_bytes\u001b[0m \u001b[0;32min\u001b[0m \u001b[0mself\u001b[0m\u001b[0;34m.\u001b[0m\u001b[0miter_raw\u001b[0m\u001b[0;34m(\u001b[0m\u001b[0;34m)\u001b[0m\u001b[0;34m:\u001b[0m\u001b[0;34m\u001b[0m\u001b[0;34m\u001b[0m\u001b[0m\n\u001b[0m\u001b[1;32m    830\u001b[0m                     \u001b[0mdecoded\u001b[0m \u001b[0;34m=\u001b[0m \u001b[0mdecoder\u001b[0m\u001b[0;34m.\u001b[0m\u001b[0mdecode\u001b[0m\u001b[0;34m(\u001b[0m\u001b[0mraw_bytes\u001b[0m\u001b[0;34m)\u001b[0m\u001b[0;34m\u001b[0m\u001b[0;34m\u001b[0m\u001b[0m\n\u001b[1;32m    831\u001b[0m                     \u001b[0;32mfor\u001b[0m \u001b[0mchunk\u001b[0m \u001b[0;32min\u001b[0m \u001b[0mchunker\u001b[0m\u001b[0;34m.\u001b[0m\u001b[0mdecode\u001b[0m\u001b[0;34m(\u001b[0m\u001b[0mdecoded\u001b[0m\u001b[0;34m)\u001b[0m\u001b[0;34m:\u001b[0m\u001b[0;34m\u001b[0m\u001b[0;34m\u001b[0m\u001b[0m\n",
      "\u001b[0;32m/opt/anaconda3/lib/python3.9/site-packages/httpx/_models.py\u001b[0m in \u001b[0;36miter_raw\u001b[0;34m(self, chunk_size)\u001b[0m\n\u001b[1;32m    881\u001b[0m \u001b[0;34m\u001b[0m\u001b[0m\n\u001b[1;32m    882\u001b[0m         \u001b[0;32mwith\u001b[0m \u001b[0mrequest_context\u001b[0m\u001b[0;34m(\u001b[0m\u001b[0mrequest\u001b[0m\u001b[0;34m=\u001b[0m\u001b[0mself\u001b[0m\u001b[0;34m.\u001b[0m\u001b[0m_request\u001b[0m\u001b[0;34m)\u001b[0m\u001b[0;34m:\u001b[0m\u001b[0;34m\u001b[0m\u001b[0;34m\u001b[0m\u001b[0m\n\u001b[0;32m--> 883\u001b[0;31m             \u001b[0;32mfor\u001b[0m \u001b[0mraw_stream_bytes\u001b[0m \u001b[0;32min\u001b[0m \u001b[0mself\u001b[0m\u001b[0;34m.\u001b[0m\u001b[0mstream\u001b[0m\u001b[0;34m:\u001b[0m\u001b[0;34m\u001b[0m\u001b[0;34m\u001b[0m\u001b[0m\n\u001b[0m\u001b[1;32m    884\u001b[0m                 \u001b[0mself\u001b[0m\u001b[0;34m.\u001b[0m\u001b[0m_num_bytes_downloaded\u001b[0m \u001b[0;34m+=\u001b[0m \u001b[0mlen\u001b[0m\u001b[0;34m(\u001b[0m\u001b[0mraw_stream_bytes\u001b[0m\u001b[0;34m)\u001b[0m\u001b[0;34m\u001b[0m\u001b[0;34m\u001b[0m\u001b[0m\n\u001b[1;32m    885\u001b[0m                 \u001b[0;32mfor\u001b[0m \u001b[0mchunk\u001b[0m \u001b[0;32min\u001b[0m \u001b[0mchunker\u001b[0m\u001b[0;34m.\u001b[0m\u001b[0mdecode\u001b[0m\u001b[0;34m(\u001b[0m\u001b[0mraw_stream_bytes\u001b[0m\u001b[0;34m)\u001b[0m\u001b[0;34m:\u001b[0m\u001b[0;34m\u001b[0m\u001b[0;34m\u001b[0m\u001b[0m\n",
      "\u001b[0;32m/opt/anaconda3/lib/python3.9/site-packages/httpx/_client.py\u001b[0m in \u001b[0;36m__iter__\u001b[0;34m(self)\u001b[0m\n\u001b[1;32m    124\u001b[0m \u001b[0;34m\u001b[0m\u001b[0m\n\u001b[1;32m    125\u001b[0m     \u001b[0;32mdef\u001b[0m \u001b[0m__iter__\u001b[0m\u001b[0;34m(\u001b[0m\u001b[0mself\u001b[0m\u001b[0;34m)\u001b[0m \u001b[0;34m->\u001b[0m \u001b[0mtyping\u001b[0m\u001b[0;34m.\u001b[0m\u001b[0mIterator\u001b[0m\u001b[0;34m[\u001b[0m\u001b[0mbytes\u001b[0m\u001b[0;34m]\u001b[0m\u001b[0;34m:\u001b[0m\u001b[0;34m\u001b[0m\u001b[0;34m\u001b[0m\u001b[0m\n\u001b[0;32m--> 126\u001b[0;31m         \u001b[0;32mfor\u001b[0m \u001b[0mchunk\u001b[0m \u001b[0;32min\u001b[0m \u001b[0mself\u001b[0m\u001b[0;34m.\u001b[0m\u001b[0m_stream\u001b[0m\u001b[0;34m:\u001b[0m\u001b[0;34m\u001b[0m\u001b[0;34m\u001b[0m\u001b[0m\n\u001b[0m\u001b[1;32m    127\u001b[0m             \u001b[0;32myield\u001b[0m \u001b[0mchunk\u001b[0m\u001b[0;34m\u001b[0m\u001b[0;34m\u001b[0m\u001b[0m\n\u001b[1;32m    128\u001b[0m \u001b[0;34m\u001b[0m\u001b[0m\n",
      "\u001b[0;32m/opt/anaconda3/lib/python3.9/site-packages/httpx/_transports/default.py\u001b[0m in \u001b[0;36m__iter__\u001b[0;34m(self)\u001b[0m\n\u001b[1;32m    111\u001b[0m     \u001b[0;32mdef\u001b[0m \u001b[0m__iter__\u001b[0m\u001b[0;34m(\u001b[0m\u001b[0mself\u001b[0m\u001b[0;34m)\u001b[0m \u001b[0;34m->\u001b[0m \u001b[0mtyping\u001b[0m\u001b[0;34m.\u001b[0m\u001b[0mIterator\u001b[0m\u001b[0;34m[\u001b[0m\u001b[0mbytes\u001b[0m\u001b[0;34m]\u001b[0m\u001b[0;34m:\u001b[0m\u001b[0;34m\u001b[0m\u001b[0;34m\u001b[0m\u001b[0m\n\u001b[1;32m    112\u001b[0m         \u001b[0;32mwith\u001b[0m \u001b[0mmap_httpcore_exceptions\u001b[0m\u001b[0;34m(\u001b[0m\u001b[0;34m)\u001b[0m\u001b[0;34m:\u001b[0m\u001b[0;34m\u001b[0m\u001b[0;34m\u001b[0m\u001b[0m\n\u001b[0;32m--> 113\u001b[0;31m             \u001b[0;32mfor\u001b[0m \u001b[0mpart\u001b[0m \u001b[0;32min\u001b[0m \u001b[0mself\u001b[0m\u001b[0;34m.\u001b[0m\u001b[0m_httpcore_stream\u001b[0m\u001b[0;34m:\u001b[0m\u001b[0;34m\u001b[0m\u001b[0;34m\u001b[0m\u001b[0m\n\u001b[0m\u001b[1;32m    114\u001b[0m                 \u001b[0;32myield\u001b[0m \u001b[0mpart\u001b[0m\u001b[0;34m\u001b[0m\u001b[0;34m\u001b[0m\u001b[0m\n\u001b[1;32m    115\u001b[0m \u001b[0;34m\u001b[0m\u001b[0m\n",
      "\u001b[0;32m/opt/anaconda3/lib/python3.9/site-packages/httpcore/_sync/connection_pool.py\u001b[0m in \u001b[0;36m__iter__\u001b[0;34m(self)\u001b[0m\n\u001b[1;32m    365\u001b[0m         \u001b[0;32mexcept\u001b[0m \u001b[0mBaseException\u001b[0m \u001b[0;32mas\u001b[0m \u001b[0mexc\u001b[0m\u001b[0;34m:\u001b[0m\u001b[0;34m\u001b[0m\u001b[0;34m\u001b[0m\u001b[0m\n\u001b[1;32m    366\u001b[0m             \u001b[0mself\u001b[0m\u001b[0;34m.\u001b[0m\u001b[0mclose\u001b[0m\u001b[0;34m(\u001b[0m\u001b[0;34m)\u001b[0m\u001b[0;34m\u001b[0m\u001b[0;34m\u001b[0m\u001b[0m\n\u001b[0;32m--> 367\u001b[0;31m             \u001b[0;32mraise\u001b[0m \u001b[0mexc\u001b[0m \u001b[0;32mfrom\u001b[0m \u001b[0;32mNone\u001b[0m\u001b[0;34m\u001b[0m\u001b[0;34m\u001b[0m\u001b[0m\n\u001b[0m\u001b[1;32m    368\u001b[0m \u001b[0;34m\u001b[0m\u001b[0m\n\u001b[1;32m    369\u001b[0m     \u001b[0;32mdef\u001b[0m \u001b[0mclose\u001b[0m\u001b[0;34m(\u001b[0m\u001b[0mself\u001b[0m\u001b[0;34m)\u001b[0m \u001b[0;34m->\u001b[0m \u001b[0;32mNone\u001b[0m\u001b[0;34m:\u001b[0m\u001b[0;34m\u001b[0m\u001b[0;34m\u001b[0m\u001b[0m\n",
      "\u001b[0;32m/opt/anaconda3/lib/python3.9/site-packages/httpcore/_sync/connection_pool.py\u001b[0m in \u001b[0;36m__iter__\u001b[0;34m(self)\u001b[0m\n\u001b[1;32m    361\u001b[0m     \u001b[0;32mdef\u001b[0m \u001b[0m__iter__\u001b[0m\u001b[0;34m(\u001b[0m\u001b[0mself\u001b[0m\u001b[0;34m)\u001b[0m \u001b[0;34m->\u001b[0m \u001b[0mIterator\u001b[0m\u001b[0;34m[\u001b[0m\u001b[0mbytes\u001b[0m\u001b[0;34m]\u001b[0m\u001b[0;34m:\u001b[0m\u001b[0;34m\u001b[0m\u001b[0;34m\u001b[0m\u001b[0m\n\u001b[1;32m    362\u001b[0m         \u001b[0;32mtry\u001b[0m\u001b[0;34m:\u001b[0m\u001b[0;34m\u001b[0m\u001b[0;34m\u001b[0m\u001b[0m\n\u001b[0;32m--> 363\u001b[0;31m             \u001b[0;32mfor\u001b[0m \u001b[0mpart\u001b[0m \u001b[0;32min\u001b[0m \u001b[0mself\u001b[0m\u001b[0;34m.\u001b[0m\u001b[0m_stream\u001b[0m\u001b[0;34m:\u001b[0m\u001b[0;34m\u001b[0m\u001b[0;34m\u001b[0m\u001b[0m\n\u001b[0m\u001b[1;32m    364\u001b[0m                 \u001b[0;32myield\u001b[0m \u001b[0mpart\u001b[0m\u001b[0;34m\u001b[0m\u001b[0;34m\u001b[0m\u001b[0m\n\u001b[1;32m    365\u001b[0m         \u001b[0;32mexcept\u001b[0m \u001b[0mBaseException\u001b[0m \u001b[0;32mas\u001b[0m \u001b[0mexc\u001b[0m\u001b[0;34m:\u001b[0m\u001b[0;34m\u001b[0m\u001b[0;34m\u001b[0m\u001b[0m\n",
      "\u001b[0;32m/opt/anaconda3/lib/python3.9/site-packages/httpcore/_sync/http11.py\u001b[0m in \u001b[0;36m__iter__\u001b[0;34m(self)\u001b[0m\n\u001b[1;32m    347\u001b[0m             \u001b[0;32mwith\u001b[0m \u001b[0mShieldCancellation\u001b[0m\u001b[0;34m(\u001b[0m\u001b[0;34m)\u001b[0m\u001b[0;34m:\u001b[0m\u001b[0;34m\u001b[0m\u001b[0;34m\u001b[0m\u001b[0m\n\u001b[1;32m    348\u001b[0m                 \u001b[0mself\u001b[0m\u001b[0;34m.\u001b[0m\u001b[0mclose\u001b[0m\u001b[0;34m(\u001b[0m\u001b[0;34m)\u001b[0m\u001b[0;34m\u001b[0m\u001b[0;34m\u001b[0m\u001b[0m\n\u001b[0;32m--> 349\u001b[0;31m             \u001b[0;32mraise\u001b[0m \u001b[0mexc\u001b[0m\u001b[0;34m\u001b[0m\u001b[0;34m\u001b[0m\u001b[0m\n\u001b[0m\u001b[1;32m    350\u001b[0m \u001b[0;34m\u001b[0m\u001b[0m\n\u001b[1;32m    351\u001b[0m     \u001b[0;32mdef\u001b[0m \u001b[0mclose\u001b[0m\u001b[0;34m(\u001b[0m\u001b[0mself\u001b[0m\u001b[0;34m)\u001b[0m \u001b[0;34m->\u001b[0m \u001b[0;32mNone\u001b[0m\u001b[0;34m:\u001b[0m\u001b[0;34m\u001b[0m\u001b[0;34m\u001b[0m\u001b[0m\n",
      "\u001b[0;32m/opt/anaconda3/lib/python3.9/site-packages/httpcore/_sync/http11.py\u001b[0m in \u001b[0;36m__iter__\u001b[0;34m(self)\u001b[0m\n\u001b[1;32m    339\u001b[0m         \u001b[0;32mtry\u001b[0m\u001b[0;34m:\u001b[0m\u001b[0;34m\u001b[0m\u001b[0;34m\u001b[0m\u001b[0m\n\u001b[1;32m    340\u001b[0m             \u001b[0;32mwith\u001b[0m \u001b[0mTrace\u001b[0m\u001b[0;34m(\u001b[0m\u001b[0;34m\"receive_response_body\"\u001b[0m\u001b[0;34m,\u001b[0m \u001b[0mlogger\u001b[0m\u001b[0;34m,\u001b[0m \u001b[0mself\u001b[0m\u001b[0;34m.\u001b[0m\u001b[0m_request\u001b[0m\u001b[0;34m,\u001b[0m \u001b[0mkwargs\u001b[0m\u001b[0;34m)\u001b[0m\u001b[0;34m:\u001b[0m\u001b[0;34m\u001b[0m\u001b[0;34m\u001b[0m\u001b[0m\n\u001b[0;32m--> 341\u001b[0;31m                 \u001b[0;32mfor\u001b[0m \u001b[0mchunk\u001b[0m \u001b[0;32min\u001b[0m \u001b[0mself\u001b[0m\u001b[0;34m.\u001b[0m\u001b[0m_connection\u001b[0m\u001b[0;34m.\u001b[0m\u001b[0m_receive_response_body\u001b[0m\u001b[0;34m(\u001b[0m\u001b[0;34m**\u001b[0m\u001b[0mkwargs\u001b[0m\u001b[0;34m)\u001b[0m\u001b[0;34m:\u001b[0m\u001b[0;34m\u001b[0m\u001b[0;34m\u001b[0m\u001b[0m\n\u001b[0m\u001b[1;32m    342\u001b[0m                     \u001b[0;32myield\u001b[0m \u001b[0mchunk\u001b[0m\u001b[0;34m\u001b[0m\u001b[0;34m\u001b[0m\u001b[0m\n\u001b[1;32m    343\u001b[0m         \u001b[0;32mexcept\u001b[0m \u001b[0mBaseException\u001b[0m \u001b[0;32mas\u001b[0m \u001b[0mexc\u001b[0m\u001b[0;34m:\u001b[0m\u001b[0;34m\u001b[0m\u001b[0;34m\u001b[0m\u001b[0m\n",
      "\u001b[0;32m/opt/anaconda3/lib/python3.9/site-packages/httpcore/_sync/http11.py\u001b[0m in \u001b[0;36m_receive_response_body\u001b[0;34m(self, request)\u001b[0m\n\u001b[1;32m    208\u001b[0m \u001b[0;34m\u001b[0m\u001b[0m\n\u001b[1;32m    209\u001b[0m         \u001b[0;32mwhile\u001b[0m \u001b[0;32mTrue\u001b[0m\u001b[0;34m:\u001b[0m\u001b[0;34m\u001b[0m\u001b[0;34m\u001b[0m\u001b[0m\n\u001b[0;32m--> 210\u001b[0;31m             \u001b[0mevent\u001b[0m \u001b[0;34m=\u001b[0m \u001b[0mself\u001b[0m\u001b[0;34m.\u001b[0m\u001b[0m_receive_event\u001b[0m\u001b[0;34m(\u001b[0m\u001b[0mtimeout\u001b[0m\u001b[0;34m=\u001b[0m\u001b[0mtimeout\u001b[0m\u001b[0;34m)\u001b[0m\u001b[0;34m\u001b[0m\u001b[0;34m\u001b[0m\u001b[0m\n\u001b[0m\u001b[1;32m    211\u001b[0m             \u001b[0;32mif\u001b[0m \u001b[0misinstance\u001b[0m\u001b[0;34m(\u001b[0m\u001b[0mevent\u001b[0m\u001b[0;34m,\u001b[0m \u001b[0mh11\u001b[0m\u001b[0;34m.\u001b[0m\u001b[0mData\u001b[0m\u001b[0;34m)\u001b[0m\u001b[0;34m:\u001b[0m\u001b[0;34m\u001b[0m\u001b[0;34m\u001b[0m\u001b[0m\n\u001b[1;32m    212\u001b[0m                 \u001b[0;32myield\u001b[0m \u001b[0mbytes\u001b[0m\u001b[0;34m(\u001b[0m\u001b[0mevent\u001b[0m\u001b[0;34m.\u001b[0m\u001b[0mdata\u001b[0m\u001b[0;34m)\u001b[0m\u001b[0;34m\u001b[0m\u001b[0;34m\u001b[0m\u001b[0m\n",
      "\u001b[0;32m/opt/anaconda3/lib/python3.9/site-packages/httpcore/_sync/http11.py\u001b[0m in \u001b[0;36m_receive_event\u001b[0;34m(self, timeout)\u001b[0m\n\u001b[1;32m    222\u001b[0m \u001b[0;34m\u001b[0m\u001b[0m\n\u001b[1;32m    223\u001b[0m             \u001b[0;32mif\u001b[0m \u001b[0mevent\u001b[0m \u001b[0;32mis\u001b[0m \u001b[0mh11\u001b[0m\u001b[0;34m.\u001b[0m\u001b[0mNEED_DATA\u001b[0m\u001b[0;34m:\u001b[0m\u001b[0;34m\u001b[0m\u001b[0;34m\u001b[0m\u001b[0m\n\u001b[0;32m--> 224\u001b[0;31m                 data = self._network_stream.read(\n\u001b[0m\u001b[1;32m    225\u001b[0m                     \u001b[0mself\u001b[0m\u001b[0;34m.\u001b[0m\u001b[0mREAD_NUM_BYTES\u001b[0m\u001b[0;34m,\u001b[0m \u001b[0mtimeout\u001b[0m\u001b[0;34m=\u001b[0m\u001b[0mtimeout\u001b[0m\u001b[0;34m\u001b[0m\u001b[0;34m\u001b[0m\u001b[0m\n\u001b[1;32m    226\u001b[0m                 )\n",
      "\u001b[0;32m/opt/anaconda3/lib/python3.9/site-packages/httpcore/_backends/sync.py\u001b[0m in \u001b[0;36mread\u001b[0;34m(self, max_bytes, timeout)\u001b[0m\n\u001b[1;32m    124\u001b[0m         \u001b[0;32mwith\u001b[0m \u001b[0mmap_exceptions\u001b[0m\u001b[0;34m(\u001b[0m\u001b[0mexc_map\u001b[0m\u001b[0;34m)\u001b[0m\u001b[0;34m:\u001b[0m\u001b[0;34m\u001b[0m\u001b[0;34m\u001b[0m\u001b[0m\n\u001b[1;32m    125\u001b[0m             \u001b[0mself\u001b[0m\u001b[0;34m.\u001b[0m\u001b[0m_sock\u001b[0m\u001b[0;34m.\u001b[0m\u001b[0msettimeout\u001b[0m\u001b[0;34m(\u001b[0m\u001b[0mtimeout\u001b[0m\u001b[0;34m)\u001b[0m\u001b[0;34m\u001b[0m\u001b[0;34m\u001b[0m\u001b[0m\n\u001b[0;32m--> 126\u001b[0;31m             \u001b[0;32mreturn\u001b[0m \u001b[0mself\u001b[0m\u001b[0;34m.\u001b[0m\u001b[0m_sock\u001b[0m\u001b[0;34m.\u001b[0m\u001b[0mrecv\u001b[0m\u001b[0;34m(\u001b[0m\u001b[0mmax_bytes\u001b[0m\u001b[0;34m)\u001b[0m\u001b[0;34m\u001b[0m\u001b[0;34m\u001b[0m\u001b[0m\n\u001b[0m\u001b[1;32m    127\u001b[0m \u001b[0;34m\u001b[0m\u001b[0m\n\u001b[1;32m    128\u001b[0m     \u001b[0;32mdef\u001b[0m \u001b[0mwrite\u001b[0m\u001b[0;34m(\u001b[0m\u001b[0mself\u001b[0m\u001b[0;34m,\u001b[0m \u001b[0mbuffer\u001b[0m\u001b[0;34m:\u001b[0m \u001b[0mbytes\u001b[0m\u001b[0;34m,\u001b[0m \u001b[0mtimeout\u001b[0m\u001b[0;34m:\u001b[0m \u001b[0mtyping\u001b[0m\u001b[0;34m.\u001b[0m\u001b[0mOptional\u001b[0m\u001b[0;34m[\u001b[0m\u001b[0mfloat\u001b[0m\u001b[0;34m]\u001b[0m \u001b[0;34m=\u001b[0m \u001b[0;32mNone\u001b[0m\u001b[0;34m)\u001b[0m \u001b[0;34m->\u001b[0m \u001b[0;32mNone\u001b[0m\u001b[0;34m:\u001b[0m\u001b[0;34m\u001b[0m\u001b[0;34m\u001b[0m\u001b[0m\n",
      "\u001b[0;31mKeyboardInterrupt\u001b[0m: "
     ]
    }
   ],
   "source": [
    "# FEW-SHOT PROMPTING WITH TEXT+IMAGE\n",
    "detailed_prompt = \"\"\"A chat between a blind human and an artificial intelligence assistant, where the human presents an image to the assistant. The assistant’s job is to: describe ALL the components that exist on the webpage in as much detail as possible, including the text, images, menu items, links, etc. Describe their positions on the webpage, color, etc. For all the text, mention exactly what the text says. Start from the top left of the webpage and work your way down until you reach the end of the webpage, step by step. Rules: Only describe what you can see, otherwise say you are not sure and move on to the next part of the page.\n",
    "\n",
    "[INST]\n",
    "<image>\\\\n\n",
    "<!—Start Description of Banner—> \n",
    "There is a banner at the top of the entire webpage. On the top left side of the banner, there is large text that reads 'Morgan Stanley' as the logo. On the right hand side of the banner, there are 2 tiers of menus. At the very top right, there is the smaller menu with these items: 'INVESTOR RELATIONS', 'MEDIA RELATIONS', 'CLIENT LOGIN' in all capital letters. The 'CLIENT LOGIN' menu item has a dropdown. Right below this smaller menu is a larger menu with these items: 'Our Insights', 'What We Do', 'About Us', 'Why Us', 'Careers', and a search icon button. All this text is in the color black. The background color of the banner is white. The background color of all the content below the banner is light gray.\n",
    "<!—End Description of Banner—>\n",
    "\n",
    "<!—Start Description of Header—>\n",
    "Below this banner is a very large header with text that reads 'Explore Technology & Disruption Ideas'. The 'Technology & Disruption' part of this text is green and underlined with a dropdown. The other parts of the text are black. The entire header is centered on the page.\n",
    "<!—Start Description of Header—>\n",
    "\n",
    "<!—Start Description of Articles List—>\n",
    "Below this large header is a list of articles. There are 2 articles listed on this page, separated by a horizontal black line. Each article in the list follows the same structure.\n",
    "\n",
    "The first article contains:\n",
    "1. A small blue header with text in all caps that reads 'TECHNOLOGY & DISRUPTION’\n",
    "2. Below that, a slightly larger black header in all caps that reads 'RETAIL’S COMEBACK PLAN'\n",
    "3. Below that, a date in italicized black font that reads 'Jul 15, 2024'\n",
    "4. Below that, a description in black text that reads 'Our Retail analyst and U.S. Internet analyst connect the dots on how technology is helping the retail industry to cash in on the future.'\n",
    "5. On the right-hand side of all this text is a square image and play button in the center of the image, to indicate a video.\n",
    "\n",
    "The second article contains:\n",
    "1. A small blue header with text in all caps that reads'TECHNOLOGY & DISRUPTION'\n",
    "2. Below that, a slightly larger black header in all caps that reads 'CONVENIENCE IS COMPELLING'\n",
    "3. Below that, a date in italicized black font that reads 'Jun 12, 2024'\n",
    "4. Below that, a description in black text that reads 'Our U.S. Thematic Strategist explains the premium that consumers will pay for convenience, and what that means for sectors including online retail, dining and package delivery.'\n",
    "5. On the right-hand side of all this text is another square image and play button in the center of the image, to indicate a video.\n",
    "<!—End Description of Articles List—>\n",
    "\n",
    "[/INST] \n",
    "[INST] \n",
    "<image>\\\\n\n",
    "\"\"\"\n",
    "\n",
    "few_shot(image_files, \"llava\", detailed_prompt, 0.0)"
   ]
  },
  {
   "cell_type": "code",
   "execution_count": null,
   "id": "71f482b9",
   "metadata": {},
   "outputs": [
    {
     "name": "stdout",
     "output_type": "stream",
     "text": [
      "\n",
      "Model: llava - Processing ['./images/ms_tech.png', './images/ms_welcome.png']\n",
      "\n",
      " The image you've"
     ]
    }
   ],
   "source": [
    "# FEW-SHOT PROMPTING WITH TEXT+IMAGE\n",
    "detailed_prompt = \"\"\"[INST]A chat between a blind human and an artificial intelligence assistant, where the human presents an image to the assistant. The assistant’s job is to: describe ALL the components that exist on the webpage in as much detail as possible, including the text, images, menu items, links, etc. Describe their positions on the webpage, color, etc. For all the text, mention exactly what the text says. Start from the top left of the webpage and work your way down until you reach the end of the webpage, step by step. Rules: Only describe what you can see, otherwise say you are not sure and move on to the next part of the page.\n",
    "\n",
    "\n",
    "USER: <image>\\\\n\n",
    "ASSISTANT: <!—Start Description of Banner—> \n",
    "There is a banner at the top of the entire webpage. On the top left side of the banner, there is large text that reads 'Morgan Stanley' as the logo. On the right hand side of the banner, there are 2 tiers of menus. At the very top right, there is the smaller menu with these items: 'INVESTOR RELATIONS', 'MEDIA RELATIONS', 'CLIENT LOGIN' in all capital letters. The 'CLIENT LOGIN' menu item has a dropdown. Right below this smaller menu is a larger menu with these items: 'Our Insights', 'What We Do', 'About Us', 'Why Us', 'Careers', and a search icon button. All this text is in the color black. The background color of the banner is white. The background color of all the content below the banner is light gray.\n",
    "<!—End Description of Banner—>\n",
    "\n",
    "<!—Start Description of Header—>\n",
    "Below this banner is a very large header with text that reads 'Explore Technology & Disruption Ideas'. The 'Technology & Disruption' part of this text is green and underlined with a dropdown. The other parts of the text are black. The entire header is centered on the page.\n",
    "<!—Start Description of Header—>\n",
    "\n",
    "<!—Start Description of Articles List—>\n",
    "Below this large header is a list of articles. There are 2 articles listed on this page, separated by a horizontal black line. Each article in the list follows the same structure.\n",
    "\n",
    "The first article contains:\n",
    "1. A small blue header with text in all caps that reads 'TECHNOLOGY & DISRUPTION’\n",
    "2. Below that, a slightly larger black header in all caps that reads 'RETAIL’S COMEBACK PLAN'\n",
    "3. Below that, a date in italicized black font that reads 'Jul 15, 2024'\n",
    "4. Below that, a description in black text that reads 'Our Retail analyst and U.S. Internet analyst connect the dots on how technology is helping the retail industry to cash in on the future.'\n",
    "5. On the right-hand side of all this text is a square image and play button in the center of the image, to indicate a video.\n",
    "\n",
    "The second article contains:\n",
    "1. A small blue header with text in all caps that reads'TECHNOLOGY & DISRUPTION'\n",
    "2. Below that, a slightly larger black header in all caps that reads 'CONVENIENCE IS COMPELLING'\n",
    "3. Below that, a date in italicized black font that reads 'Jun 12, 2024'\n",
    "4. Below that, a description in black text that reads 'Our U.S. Thematic Strategist explains the premium that consumers will pay for convenience, and what that means for sectors including online retail, dining and package delivery.'\n",
    "5. On the right-hand side of all this text is another square image and play button in the center of the image, to indicate a video.\n",
    "<!—End Description of Articles List—>\n",
    "\n",
    "USER: <image>\\\\n\n",
    "ASSISTANT: \n",
    "[/INST]\n",
    "\"\"\"\n",
    "\n",
    "few_shot(image_files, \"llava\", detailed_prompt, 0.0)"
   ]
  },
  {
   "cell_type": "code",
   "execution_count": null,
   "id": "0a0ea22c",
   "metadata": {},
   "outputs": [],
   "source": [
    "system = \"\"\"You are given a webpage on a website. Your goal is to describe this webpage to someone who is blind. In as much detail as possible, please describe ALL the components that exist on the webpage, including the text, images, menu items, links, etc. Describe their positions on the webpage, color, etc. For all the text, mention exactly what the text says. Start from the top left of the webpage and work your way down until you reach the end of the webpage, step by step. \n",
    "\n",
    "Rules: Only describe what you can see, otherwise say you are not sure and move on to the next part of the page.\n",
    "\"\"\"\n",
    "\n",
    "template=\"\"\"Here is a webpage on a website. Your goal is to describe this webpage to someone who is blind. In as much detail as possible, please describe ALL the components that exist on the webpage, including the text, images, menu items, links, etc. Describe their positions on the webpage, color, etc. For all the text, mention exactly what the text says. Start from the top left of the webpage and work your way down until you reach the end of the webpage, step by step. \n",
    "\n",
    "Rules: Only describe what you can see, otherwise say you are not sure and move on to the next part of the page.\n",
    "\n",
    "Here is an example:\n",
    "Given this [IMAGE], here is its Description:\n",
    "[INSERT MANUAL/HUMAN DESCRIPTION]\n",
    "\"\"\"\n",
    "few_shot(image_files, \"llava\", detailed_prompt, 0.0)"
   ]
  },
  {
   "cell_type": "markdown",
   "id": "508f34cd",
   "metadata": {},
   "source": []
  },
  {
   "cell_type": "code",
   "execution_count": null,
   "id": "638c8e85",
   "metadata": {},
   "outputs": [],
   "source": [
    "# FEW-SHOT PROMPTING WITH TEXT ONLY (NO IMAGE)\n"
   ]
  },
  {
   "cell_type": "markdown",
   "id": "d17458b8",
   "metadata": {},
   "source": [
    "## LLaVA-Mistral"
   ]
  },
  {
   "cell_type": "code",
   "execution_count": 9,
   "id": "a749eee8",
   "metadata": {},
   "outputs": [],
   "source": [
    "prompt3 = \"\"\"[INST]<image>\\n Here is a webpage on a website. Your goal is to describe this webpage to someone who is blind. In as much detail as possible, please describe ALL the components that exist on the webpage, including the text, images, menu items, links, etc. Describe their positions on the webpage, color, etc. For all the text, mention exactly what the text says. Start from the top left of the webpage and work your way down until you reach the end of the webpage, step by step. \n",
    "Rules: Only describe what you can see, otherwise say you are not sure and move on to the next part of the page.\n",
    "[/INST]\"\"\""
   ]
  },
  {
   "cell_type": "code",
   "execution_count": 10,
   "id": "cd18b00e",
   "metadata": {},
   "outputs": [
    {
     "name": "stdout",
     "output_type": "stream",
     "text": [
      "\n",
      "Model: mapler/llava-mistral - Processing ./images/ms_welcome.png\n",
      "\n",
      "\n",
      "I'm sorry, but I am unable to view images or webpages as a visual assistant. However, I can provide general guidance on how to describe a webpage for someone who is blind. Here are some steps you can follow:\n",
      "\n",
      "1. Start from the top left of the webpage and work your way down until you reach the end of the page.\n",
      "2. Describe each component in as much detail as possible, including text, images, menu items, links"
     ]
    },
    {
     "ename": "KeyboardInterrupt",
     "evalue": "",
     "output_type": "error",
     "traceback": [
      "\u001b[0;31m---------------------------------------------------------------------------\u001b[0m",
      "\u001b[0;31mKeyboardInterrupt\u001b[0m                         Traceback (most recent call last)",
      "\u001b[0;32m/var/folders/dl/bxcn0n6d1pj338vdrsngy2_m0000gn/T/ipykernel_18353/2159448716.py\u001b[0m in \u001b[0;36m<module>\u001b[0;34m\u001b[0m\n\u001b[0;32m----> 1\u001b[0;31m \u001b[0mprocess_image6\u001b[0m\u001b[0;34m(\u001b[0m\u001b[0;34m\"./images/ms_welcome.png\"\u001b[0m\u001b[0;34m,\u001b[0m \u001b[0;34m\"mapler/llava-mistral\"\u001b[0m\u001b[0;34m,\u001b[0m \u001b[0mprompt3\u001b[0m\u001b[0;34m,\u001b[0m \u001b[0;36m0.0\u001b[0m\u001b[0;34m)\u001b[0m\u001b[0;34m\u001b[0m\u001b[0;34m\u001b[0m\u001b[0m\n\u001b[0m",
      "\u001b[0;32m/var/folders/dl/bxcn0n6d1pj338vdrsngy2_m0000gn/T/ipykernel_18353/3954665372.py\u001b[0m in \u001b[0;36mprocess_image6\u001b[0;34m(image_file, model, prompt, temperature)\u001b[0m\n\u001b[1;32m     10\u001b[0m     \u001b[0mfull_response\u001b[0m \u001b[0;34m=\u001b[0m \u001b[0;34m''\u001b[0m\u001b[0;34m\u001b[0m\u001b[0;34m\u001b[0m\u001b[0m\n\u001b[1;32m     11\u001b[0m     \u001b[0;31m# Generate a description of the image\u001b[0m\u001b[0;34m\u001b[0m\u001b[0;34m\u001b[0m\u001b[0m\n\u001b[0;32m---> 12\u001b[0;31m     for response in generate(model=model, \n\u001b[0m\u001b[1;32m     13\u001b[0m                              \u001b[0mprompt\u001b[0m\u001b[0;34m=\u001b[0m\u001b[0mprompt\u001b[0m\u001b[0;34m,\u001b[0m\u001b[0;34m\u001b[0m\u001b[0;34m\u001b[0m\u001b[0m\n\u001b[1;32m     14\u001b[0m                              \u001b[0mimages\u001b[0m\u001b[0;34m=\u001b[0m\u001b[0;34m[\u001b[0m\u001b[0mimage_bytes\u001b[0m\u001b[0;34m]\u001b[0m\u001b[0;34m,\u001b[0m\u001b[0;34m\u001b[0m\u001b[0;34m\u001b[0m\u001b[0m\n",
      "\u001b[0;32m/opt/anaconda3/lib/python3.9/site-packages/ollama/_client.py\u001b[0m in \u001b[0;36m_stream\u001b[0;34m(self, method, url, **kwargs)\u001b[0m\n\u001b[1;32m     84\u001b[0m         \u001b[0;32mraise\u001b[0m \u001b[0mResponseError\u001b[0m\u001b[0;34m(\u001b[0m\u001b[0me\u001b[0m\u001b[0;34m.\u001b[0m\u001b[0mresponse\u001b[0m\u001b[0;34m.\u001b[0m\u001b[0mtext\u001b[0m\u001b[0;34m,\u001b[0m \u001b[0me\u001b[0m\u001b[0;34m.\u001b[0m\u001b[0mresponse\u001b[0m\u001b[0;34m.\u001b[0m\u001b[0mstatus_code\u001b[0m\u001b[0;34m)\u001b[0m \u001b[0;32mfrom\u001b[0m \u001b[0;32mNone\u001b[0m\u001b[0;34m\u001b[0m\u001b[0;34m\u001b[0m\u001b[0m\n\u001b[1;32m     85\u001b[0m \u001b[0;34m\u001b[0m\u001b[0m\n\u001b[0;32m---> 86\u001b[0;31m       \u001b[0;32mfor\u001b[0m \u001b[0mline\u001b[0m \u001b[0;32min\u001b[0m \u001b[0mr\u001b[0m\u001b[0;34m.\u001b[0m\u001b[0miter_lines\u001b[0m\u001b[0;34m(\u001b[0m\u001b[0;34m)\u001b[0m\u001b[0;34m:\u001b[0m\u001b[0;34m\u001b[0m\u001b[0;34m\u001b[0m\u001b[0m\n\u001b[0m\u001b[1;32m     87\u001b[0m         \u001b[0mpartial\u001b[0m \u001b[0;34m=\u001b[0m \u001b[0mjson\u001b[0m\u001b[0;34m.\u001b[0m\u001b[0mloads\u001b[0m\u001b[0;34m(\u001b[0m\u001b[0mline\u001b[0m\u001b[0;34m)\u001b[0m\u001b[0;34m\u001b[0m\u001b[0;34m\u001b[0m\u001b[0m\n\u001b[1;32m     88\u001b[0m         \u001b[0;32mif\u001b[0m \u001b[0me\u001b[0m \u001b[0;34m:=\u001b[0m \u001b[0mpartial\u001b[0m\u001b[0;34m.\u001b[0m\u001b[0mget\u001b[0m\u001b[0;34m(\u001b[0m\u001b[0;34m'error'\u001b[0m\u001b[0;34m)\u001b[0m\u001b[0;34m:\u001b[0m\u001b[0;34m\u001b[0m\u001b[0;34m\u001b[0m\u001b[0m\n",
      "\u001b[0;32m/opt/anaconda3/lib/python3.9/site-packages/httpx/_models.py\u001b[0m in \u001b[0;36miter_lines\u001b[0;34m(self)\u001b[0m\n\u001b[1;32m    859\u001b[0m         \u001b[0mdecoder\u001b[0m \u001b[0;34m=\u001b[0m \u001b[0mLineDecoder\u001b[0m\u001b[0;34m(\u001b[0m\u001b[0;34m)\u001b[0m\u001b[0;34m\u001b[0m\u001b[0;34m\u001b[0m\u001b[0m\n\u001b[1;32m    860\u001b[0m         \u001b[0;32mwith\u001b[0m \u001b[0mrequest_context\u001b[0m\u001b[0;34m(\u001b[0m\u001b[0mrequest\u001b[0m\u001b[0;34m=\u001b[0m\u001b[0mself\u001b[0m\u001b[0;34m.\u001b[0m\u001b[0m_request\u001b[0m\u001b[0;34m)\u001b[0m\u001b[0;34m:\u001b[0m\u001b[0;34m\u001b[0m\u001b[0;34m\u001b[0m\u001b[0m\n\u001b[0;32m--> 861\u001b[0;31m             \u001b[0;32mfor\u001b[0m \u001b[0mtext\u001b[0m \u001b[0;32min\u001b[0m \u001b[0mself\u001b[0m\u001b[0;34m.\u001b[0m\u001b[0miter_text\u001b[0m\u001b[0;34m(\u001b[0m\u001b[0;34m)\u001b[0m\u001b[0;34m:\u001b[0m\u001b[0;34m\u001b[0m\u001b[0;34m\u001b[0m\u001b[0m\n\u001b[0m\u001b[1;32m    862\u001b[0m                 \u001b[0;32mfor\u001b[0m \u001b[0mline\u001b[0m \u001b[0;32min\u001b[0m \u001b[0mdecoder\u001b[0m\u001b[0;34m.\u001b[0m\u001b[0mdecode\u001b[0m\u001b[0;34m(\u001b[0m\u001b[0mtext\u001b[0m\u001b[0;34m)\u001b[0m\u001b[0;34m:\u001b[0m\u001b[0;34m\u001b[0m\u001b[0;34m\u001b[0m\u001b[0m\n\u001b[1;32m    863\u001b[0m                     \u001b[0;32myield\u001b[0m \u001b[0mline\u001b[0m\u001b[0;34m\u001b[0m\u001b[0;34m\u001b[0m\u001b[0m\n",
      "\u001b[0;32m/opt/anaconda3/lib/python3.9/site-packages/httpx/_models.py\u001b[0m in \u001b[0;36miter_text\u001b[0;34m(self, chunk_size)\u001b[0m\n\u001b[1;32m    846\u001b[0m         \u001b[0mchunker\u001b[0m \u001b[0;34m=\u001b[0m \u001b[0mTextChunker\u001b[0m\u001b[0;34m(\u001b[0m\u001b[0mchunk_size\u001b[0m\u001b[0;34m=\u001b[0m\u001b[0mchunk_size\u001b[0m\u001b[0;34m)\u001b[0m\u001b[0;34m\u001b[0m\u001b[0;34m\u001b[0m\u001b[0m\n\u001b[1;32m    847\u001b[0m         \u001b[0;32mwith\u001b[0m \u001b[0mrequest_context\u001b[0m\u001b[0;34m(\u001b[0m\u001b[0mrequest\u001b[0m\u001b[0;34m=\u001b[0m\u001b[0mself\u001b[0m\u001b[0;34m.\u001b[0m\u001b[0m_request\u001b[0m\u001b[0;34m)\u001b[0m\u001b[0;34m:\u001b[0m\u001b[0;34m\u001b[0m\u001b[0;34m\u001b[0m\u001b[0m\n\u001b[0;32m--> 848\u001b[0;31m             \u001b[0;32mfor\u001b[0m \u001b[0mbyte_content\u001b[0m \u001b[0;32min\u001b[0m \u001b[0mself\u001b[0m\u001b[0;34m.\u001b[0m\u001b[0miter_bytes\u001b[0m\u001b[0;34m(\u001b[0m\u001b[0;34m)\u001b[0m\u001b[0;34m:\u001b[0m\u001b[0;34m\u001b[0m\u001b[0;34m\u001b[0m\u001b[0m\n\u001b[0m\u001b[1;32m    849\u001b[0m                 \u001b[0mtext_content\u001b[0m \u001b[0;34m=\u001b[0m \u001b[0mdecoder\u001b[0m\u001b[0;34m.\u001b[0m\u001b[0mdecode\u001b[0m\u001b[0;34m(\u001b[0m\u001b[0mbyte_content\u001b[0m\u001b[0;34m)\u001b[0m\u001b[0;34m\u001b[0m\u001b[0;34m\u001b[0m\u001b[0m\n\u001b[1;32m    850\u001b[0m                 \u001b[0;32mfor\u001b[0m \u001b[0mchunk\u001b[0m \u001b[0;32min\u001b[0m \u001b[0mchunker\u001b[0m\u001b[0;34m.\u001b[0m\u001b[0mdecode\u001b[0m\u001b[0;34m(\u001b[0m\u001b[0mtext_content\u001b[0m\u001b[0;34m)\u001b[0m\u001b[0;34m:\u001b[0m\u001b[0;34m\u001b[0m\u001b[0;34m\u001b[0m\u001b[0m\n",
      "\u001b[0;32m/opt/anaconda3/lib/python3.9/site-packages/httpx/_models.py\u001b[0m in \u001b[0;36miter_bytes\u001b[0;34m(self, chunk_size)\u001b[0m\n\u001b[1;32m    827\u001b[0m             \u001b[0mchunker\u001b[0m \u001b[0;34m=\u001b[0m \u001b[0mByteChunker\u001b[0m\u001b[0;34m(\u001b[0m\u001b[0mchunk_size\u001b[0m\u001b[0;34m=\u001b[0m\u001b[0mchunk_size\u001b[0m\u001b[0;34m)\u001b[0m\u001b[0;34m\u001b[0m\u001b[0;34m\u001b[0m\u001b[0m\n\u001b[1;32m    828\u001b[0m             \u001b[0;32mwith\u001b[0m \u001b[0mrequest_context\u001b[0m\u001b[0;34m(\u001b[0m\u001b[0mrequest\u001b[0m\u001b[0;34m=\u001b[0m\u001b[0mself\u001b[0m\u001b[0;34m.\u001b[0m\u001b[0m_request\u001b[0m\u001b[0;34m)\u001b[0m\u001b[0;34m:\u001b[0m\u001b[0;34m\u001b[0m\u001b[0;34m\u001b[0m\u001b[0m\n\u001b[0;32m--> 829\u001b[0;31m                 \u001b[0;32mfor\u001b[0m \u001b[0mraw_bytes\u001b[0m \u001b[0;32min\u001b[0m \u001b[0mself\u001b[0m\u001b[0;34m.\u001b[0m\u001b[0miter_raw\u001b[0m\u001b[0;34m(\u001b[0m\u001b[0;34m)\u001b[0m\u001b[0;34m:\u001b[0m\u001b[0;34m\u001b[0m\u001b[0;34m\u001b[0m\u001b[0m\n\u001b[0m\u001b[1;32m    830\u001b[0m                     \u001b[0mdecoded\u001b[0m \u001b[0;34m=\u001b[0m \u001b[0mdecoder\u001b[0m\u001b[0;34m.\u001b[0m\u001b[0mdecode\u001b[0m\u001b[0;34m(\u001b[0m\u001b[0mraw_bytes\u001b[0m\u001b[0;34m)\u001b[0m\u001b[0;34m\u001b[0m\u001b[0;34m\u001b[0m\u001b[0m\n\u001b[1;32m    831\u001b[0m                     \u001b[0;32mfor\u001b[0m \u001b[0mchunk\u001b[0m \u001b[0;32min\u001b[0m \u001b[0mchunker\u001b[0m\u001b[0;34m.\u001b[0m\u001b[0mdecode\u001b[0m\u001b[0;34m(\u001b[0m\u001b[0mdecoded\u001b[0m\u001b[0;34m)\u001b[0m\u001b[0;34m:\u001b[0m\u001b[0;34m\u001b[0m\u001b[0;34m\u001b[0m\u001b[0m\n",
      "\u001b[0;32m/opt/anaconda3/lib/python3.9/site-packages/httpx/_models.py\u001b[0m in \u001b[0;36miter_raw\u001b[0;34m(self, chunk_size)\u001b[0m\n\u001b[1;32m    881\u001b[0m \u001b[0;34m\u001b[0m\u001b[0m\n\u001b[1;32m    882\u001b[0m         \u001b[0;32mwith\u001b[0m \u001b[0mrequest_context\u001b[0m\u001b[0;34m(\u001b[0m\u001b[0mrequest\u001b[0m\u001b[0;34m=\u001b[0m\u001b[0mself\u001b[0m\u001b[0;34m.\u001b[0m\u001b[0m_request\u001b[0m\u001b[0;34m)\u001b[0m\u001b[0;34m:\u001b[0m\u001b[0;34m\u001b[0m\u001b[0;34m\u001b[0m\u001b[0m\n\u001b[0;32m--> 883\u001b[0;31m             \u001b[0;32mfor\u001b[0m \u001b[0mraw_stream_bytes\u001b[0m \u001b[0;32min\u001b[0m \u001b[0mself\u001b[0m\u001b[0;34m.\u001b[0m\u001b[0mstream\u001b[0m\u001b[0;34m:\u001b[0m\u001b[0;34m\u001b[0m\u001b[0;34m\u001b[0m\u001b[0m\n\u001b[0m\u001b[1;32m    884\u001b[0m                 \u001b[0mself\u001b[0m\u001b[0;34m.\u001b[0m\u001b[0m_num_bytes_downloaded\u001b[0m \u001b[0;34m+=\u001b[0m \u001b[0mlen\u001b[0m\u001b[0;34m(\u001b[0m\u001b[0mraw_stream_bytes\u001b[0m\u001b[0;34m)\u001b[0m\u001b[0;34m\u001b[0m\u001b[0;34m\u001b[0m\u001b[0m\n\u001b[1;32m    885\u001b[0m                 \u001b[0;32mfor\u001b[0m \u001b[0mchunk\u001b[0m \u001b[0;32min\u001b[0m \u001b[0mchunker\u001b[0m\u001b[0;34m.\u001b[0m\u001b[0mdecode\u001b[0m\u001b[0;34m(\u001b[0m\u001b[0mraw_stream_bytes\u001b[0m\u001b[0;34m)\u001b[0m\u001b[0;34m:\u001b[0m\u001b[0;34m\u001b[0m\u001b[0;34m\u001b[0m\u001b[0m\n",
      "\u001b[0;32m/opt/anaconda3/lib/python3.9/site-packages/httpx/_client.py\u001b[0m in \u001b[0;36m__iter__\u001b[0;34m(self)\u001b[0m\n\u001b[1;32m    124\u001b[0m \u001b[0;34m\u001b[0m\u001b[0m\n\u001b[1;32m    125\u001b[0m     \u001b[0;32mdef\u001b[0m \u001b[0m__iter__\u001b[0m\u001b[0;34m(\u001b[0m\u001b[0mself\u001b[0m\u001b[0;34m)\u001b[0m \u001b[0;34m->\u001b[0m \u001b[0mtyping\u001b[0m\u001b[0;34m.\u001b[0m\u001b[0mIterator\u001b[0m\u001b[0;34m[\u001b[0m\u001b[0mbytes\u001b[0m\u001b[0;34m]\u001b[0m\u001b[0;34m:\u001b[0m\u001b[0;34m\u001b[0m\u001b[0;34m\u001b[0m\u001b[0m\n\u001b[0;32m--> 126\u001b[0;31m         \u001b[0;32mfor\u001b[0m \u001b[0mchunk\u001b[0m \u001b[0;32min\u001b[0m \u001b[0mself\u001b[0m\u001b[0;34m.\u001b[0m\u001b[0m_stream\u001b[0m\u001b[0;34m:\u001b[0m\u001b[0;34m\u001b[0m\u001b[0;34m\u001b[0m\u001b[0m\n\u001b[0m\u001b[1;32m    127\u001b[0m             \u001b[0;32myield\u001b[0m \u001b[0mchunk\u001b[0m\u001b[0;34m\u001b[0m\u001b[0;34m\u001b[0m\u001b[0m\n\u001b[1;32m    128\u001b[0m \u001b[0;34m\u001b[0m\u001b[0m\n",
      "\u001b[0;32m/opt/anaconda3/lib/python3.9/site-packages/httpx/_transports/default.py\u001b[0m in \u001b[0;36m__iter__\u001b[0;34m(self)\u001b[0m\n\u001b[1;32m    111\u001b[0m     \u001b[0;32mdef\u001b[0m \u001b[0m__iter__\u001b[0m\u001b[0;34m(\u001b[0m\u001b[0mself\u001b[0m\u001b[0;34m)\u001b[0m \u001b[0;34m->\u001b[0m \u001b[0mtyping\u001b[0m\u001b[0;34m.\u001b[0m\u001b[0mIterator\u001b[0m\u001b[0;34m[\u001b[0m\u001b[0mbytes\u001b[0m\u001b[0;34m]\u001b[0m\u001b[0;34m:\u001b[0m\u001b[0;34m\u001b[0m\u001b[0;34m\u001b[0m\u001b[0m\n\u001b[1;32m    112\u001b[0m         \u001b[0;32mwith\u001b[0m \u001b[0mmap_httpcore_exceptions\u001b[0m\u001b[0;34m(\u001b[0m\u001b[0;34m)\u001b[0m\u001b[0;34m:\u001b[0m\u001b[0;34m\u001b[0m\u001b[0;34m\u001b[0m\u001b[0m\n\u001b[0;32m--> 113\u001b[0;31m             \u001b[0;32mfor\u001b[0m \u001b[0mpart\u001b[0m \u001b[0;32min\u001b[0m \u001b[0mself\u001b[0m\u001b[0;34m.\u001b[0m\u001b[0m_httpcore_stream\u001b[0m\u001b[0;34m:\u001b[0m\u001b[0;34m\u001b[0m\u001b[0;34m\u001b[0m\u001b[0m\n\u001b[0m\u001b[1;32m    114\u001b[0m                 \u001b[0;32myield\u001b[0m \u001b[0mpart\u001b[0m\u001b[0;34m\u001b[0m\u001b[0;34m\u001b[0m\u001b[0m\n\u001b[1;32m    115\u001b[0m \u001b[0;34m\u001b[0m\u001b[0m\n",
      "\u001b[0;32m/opt/anaconda3/lib/python3.9/site-packages/httpcore/_sync/connection_pool.py\u001b[0m in \u001b[0;36m__iter__\u001b[0;34m(self)\u001b[0m\n\u001b[1;32m    365\u001b[0m         \u001b[0;32mexcept\u001b[0m \u001b[0mBaseException\u001b[0m \u001b[0;32mas\u001b[0m \u001b[0mexc\u001b[0m\u001b[0;34m:\u001b[0m\u001b[0;34m\u001b[0m\u001b[0;34m\u001b[0m\u001b[0m\n\u001b[1;32m    366\u001b[0m             \u001b[0mself\u001b[0m\u001b[0;34m.\u001b[0m\u001b[0mclose\u001b[0m\u001b[0;34m(\u001b[0m\u001b[0;34m)\u001b[0m\u001b[0;34m\u001b[0m\u001b[0;34m\u001b[0m\u001b[0m\n\u001b[0;32m--> 367\u001b[0;31m             \u001b[0;32mraise\u001b[0m \u001b[0mexc\u001b[0m \u001b[0;32mfrom\u001b[0m \u001b[0;32mNone\u001b[0m\u001b[0;34m\u001b[0m\u001b[0;34m\u001b[0m\u001b[0m\n\u001b[0m\u001b[1;32m    368\u001b[0m \u001b[0;34m\u001b[0m\u001b[0m\n\u001b[1;32m    369\u001b[0m     \u001b[0;32mdef\u001b[0m \u001b[0mclose\u001b[0m\u001b[0;34m(\u001b[0m\u001b[0mself\u001b[0m\u001b[0;34m)\u001b[0m \u001b[0;34m->\u001b[0m \u001b[0;32mNone\u001b[0m\u001b[0;34m:\u001b[0m\u001b[0;34m\u001b[0m\u001b[0;34m\u001b[0m\u001b[0m\n",
      "\u001b[0;32m/opt/anaconda3/lib/python3.9/site-packages/httpcore/_sync/connection_pool.py\u001b[0m in \u001b[0;36m__iter__\u001b[0;34m(self)\u001b[0m\n\u001b[1;32m    361\u001b[0m     \u001b[0;32mdef\u001b[0m \u001b[0m__iter__\u001b[0m\u001b[0;34m(\u001b[0m\u001b[0mself\u001b[0m\u001b[0;34m)\u001b[0m \u001b[0;34m->\u001b[0m \u001b[0mIterator\u001b[0m\u001b[0;34m[\u001b[0m\u001b[0mbytes\u001b[0m\u001b[0;34m]\u001b[0m\u001b[0;34m:\u001b[0m\u001b[0;34m\u001b[0m\u001b[0;34m\u001b[0m\u001b[0m\n\u001b[1;32m    362\u001b[0m         \u001b[0;32mtry\u001b[0m\u001b[0;34m:\u001b[0m\u001b[0;34m\u001b[0m\u001b[0;34m\u001b[0m\u001b[0m\n\u001b[0;32m--> 363\u001b[0;31m             \u001b[0;32mfor\u001b[0m \u001b[0mpart\u001b[0m \u001b[0;32min\u001b[0m \u001b[0mself\u001b[0m\u001b[0;34m.\u001b[0m\u001b[0m_stream\u001b[0m\u001b[0;34m:\u001b[0m\u001b[0;34m\u001b[0m\u001b[0;34m\u001b[0m\u001b[0m\n\u001b[0m\u001b[1;32m    364\u001b[0m                 \u001b[0;32myield\u001b[0m \u001b[0mpart\u001b[0m\u001b[0;34m\u001b[0m\u001b[0;34m\u001b[0m\u001b[0m\n\u001b[1;32m    365\u001b[0m         \u001b[0;32mexcept\u001b[0m \u001b[0mBaseException\u001b[0m \u001b[0;32mas\u001b[0m \u001b[0mexc\u001b[0m\u001b[0;34m:\u001b[0m\u001b[0;34m\u001b[0m\u001b[0;34m\u001b[0m\u001b[0m\n",
      "\u001b[0;32m/opt/anaconda3/lib/python3.9/site-packages/httpcore/_sync/http11.py\u001b[0m in \u001b[0;36m__iter__\u001b[0;34m(self)\u001b[0m\n\u001b[1;32m    347\u001b[0m             \u001b[0;32mwith\u001b[0m \u001b[0mShieldCancellation\u001b[0m\u001b[0;34m(\u001b[0m\u001b[0;34m)\u001b[0m\u001b[0;34m:\u001b[0m\u001b[0;34m\u001b[0m\u001b[0;34m\u001b[0m\u001b[0m\n\u001b[1;32m    348\u001b[0m                 \u001b[0mself\u001b[0m\u001b[0;34m.\u001b[0m\u001b[0mclose\u001b[0m\u001b[0;34m(\u001b[0m\u001b[0;34m)\u001b[0m\u001b[0;34m\u001b[0m\u001b[0;34m\u001b[0m\u001b[0m\n\u001b[0;32m--> 349\u001b[0;31m             \u001b[0;32mraise\u001b[0m \u001b[0mexc\u001b[0m\u001b[0;34m\u001b[0m\u001b[0;34m\u001b[0m\u001b[0m\n\u001b[0m\u001b[1;32m    350\u001b[0m \u001b[0;34m\u001b[0m\u001b[0m\n\u001b[1;32m    351\u001b[0m     \u001b[0;32mdef\u001b[0m \u001b[0mclose\u001b[0m\u001b[0;34m(\u001b[0m\u001b[0mself\u001b[0m\u001b[0;34m)\u001b[0m \u001b[0;34m->\u001b[0m \u001b[0;32mNone\u001b[0m\u001b[0;34m:\u001b[0m\u001b[0;34m\u001b[0m\u001b[0;34m\u001b[0m\u001b[0m\n",
      "\u001b[0;32m/opt/anaconda3/lib/python3.9/site-packages/httpcore/_sync/http11.py\u001b[0m in \u001b[0;36m__iter__\u001b[0;34m(self)\u001b[0m\n\u001b[1;32m    339\u001b[0m         \u001b[0;32mtry\u001b[0m\u001b[0;34m:\u001b[0m\u001b[0;34m\u001b[0m\u001b[0;34m\u001b[0m\u001b[0m\n\u001b[1;32m    340\u001b[0m             \u001b[0;32mwith\u001b[0m \u001b[0mTrace\u001b[0m\u001b[0;34m(\u001b[0m\u001b[0;34m\"receive_response_body\"\u001b[0m\u001b[0;34m,\u001b[0m \u001b[0mlogger\u001b[0m\u001b[0;34m,\u001b[0m \u001b[0mself\u001b[0m\u001b[0;34m.\u001b[0m\u001b[0m_request\u001b[0m\u001b[0;34m,\u001b[0m \u001b[0mkwargs\u001b[0m\u001b[0;34m)\u001b[0m\u001b[0;34m:\u001b[0m\u001b[0;34m\u001b[0m\u001b[0;34m\u001b[0m\u001b[0m\n\u001b[0;32m--> 341\u001b[0;31m                 \u001b[0;32mfor\u001b[0m \u001b[0mchunk\u001b[0m \u001b[0;32min\u001b[0m \u001b[0mself\u001b[0m\u001b[0;34m.\u001b[0m\u001b[0m_connection\u001b[0m\u001b[0;34m.\u001b[0m\u001b[0m_receive_response_body\u001b[0m\u001b[0;34m(\u001b[0m\u001b[0;34m**\u001b[0m\u001b[0mkwargs\u001b[0m\u001b[0;34m)\u001b[0m\u001b[0;34m:\u001b[0m\u001b[0;34m\u001b[0m\u001b[0;34m\u001b[0m\u001b[0m\n\u001b[0m\u001b[1;32m    342\u001b[0m                     \u001b[0;32myield\u001b[0m \u001b[0mchunk\u001b[0m\u001b[0;34m\u001b[0m\u001b[0;34m\u001b[0m\u001b[0m\n\u001b[1;32m    343\u001b[0m         \u001b[0;32mexcept\u001b[0m \u001b[0mBaseException\u001b[0m \u001b[0;32mas\u001b[0m \u001b[0mexc\u001b[0m\u001b[0;34m:\u001b[0m\u001b[0;34m\u001b[0m\u001b[0;34m\u001b[0m\u001b[0m\n",
      "\u001b[0;32m/opt/anaconda3/lib/python3.9/site-packages/httpcore/_sync/http11.py\u001b[0m in \u001b[0;36m_receive_response_body\u001b[0;34m(self, request)\u001b[0m\n\u001b[1;32m    208\u001b[0m \u001b[0;34m\u001b[0m\u001b[0m\n\u001b[1;32m    209\u001b[0m         \u001b[0;32mwhile\u001b[0m \u001b[0;32mTrue\u001b[0m\u001b[0;34m:\u001b[0m\u001b[0;34m\u001b[0m\u001b[0;34m\u001b[0m\u001b[0m\n\u001b[0;32m--> 210\u001b[0;31m             \u001b[0mevent\u001b[0m \u001b[0;34m=\u001b[0m \u001b[0mself\u001b[0m\u001b[0;34m.\u001b[0m\u001b[0m_receive_event\u001b[0m\u001b[0;34m(\u001b[0m\u001b[0mtimeout\u001b[0m\u001b[0;34m=\u001b[0m\u001b[0mtimeout\u001b[0m\u001b[0;34m)\u001b[0m\u001b[0;34m\u001b[0m\u001b[0;34m\u001b[0m\u001b[0m\n\u001b[0m\u001b[1;32m    211\u001b[0m             \u001b[0;32mif\u001b[0m \u001b[0misinstance\u001b[0m\u001b[0;34m(\u001b[0m\u001b[0mevent\u001b[0m\u001b[0;34m,\u001b[0m \u001b[0mh11\u001b[0m\u001b[0;34m.\u001b[0m\u001b[0mData\u001b[0m\u001b[0;34m)\u001b[0m\u001b[0;34m:\u001b[0m\u001b[0;34m\u001b[0m\u001b[0;34m\u001b[0m\u001b[0m\n\u001b[1;32m    212\u001b[0m                 \u001b[0;32myield\u001b[0m \u001b[0mbytes\u001b[0m\u001b[0;34m(\u001b[0m\u001b[0mevent\u001b[0m\u001b[0;34m.\u001b[0m\u001b[0mdata\u001b[0m\u001b[0;34m)\u001b[0m\u001b[0;34m\u001b[0m\u001b[0;34m\u001b[0m\u001b[0m\n",
      "\u001b[0;32m/opt/anaconda3/lib/python3.9/site-packages/httpcore/_sync/http11.py\u001b[0m in \u001b[0;36m_receive_event\u001b[0;34m(self, timeout)\u001b[0m\n\u001b[1;32m    222\u001b[0m \u001b[0;34m\u001b[0m\u001b[0m\n\u001b[1;32m    223\u001b[0m             \u001b[0;32mif\u001b[0m \u001b[0mevent\u001b[0m \u001b[0;32mis\u001b[0m \u001b[0mh11\u001b[0m\u001b[0;34m.\u001b[0m\u001b[0mNEED_DATA\u001b[0m\u001b[0;34m:\u001b[0m\u001b[0;34m\u001b[0m\u001b[0;34m\u001b[0m\u001b[0m\n\u001b[0;32m--> 224\u001b[0;31m                 data = self._network_stream.read(\n\u001b[0m\u001b[1;32m    225\u001b[0m                     \u001b[0mself\u001b[0m\u001b[0;34m.\u001b[0m\u001b[0mREAD_NUM_BYTES\u001b[0m\u001b[0;34m,\u001b[0m \u001b[0mtimeout\u001b[0m\u001b[0;34m=\u001b[0m\u001b[0mtimeout\u001b[0m\u001b[0;34m\u001b[0m\u001b[0;34m\u001b[0m\u001b[0m\n\u001b[1;32m    226\u001b[0m                 )\n",
      "\u001b[0;32m/opt/anaconda3/lib/python3.9/site-packages/httpcore/_backends/sync.py\u001b[0m in \u001b[0;36mread\u001b[0;34m(self, max_bytes, timeout)\u001b[0m\n\u001b[1;32m    124\u001b[0m         \u001b[0;32mwith\u001b[0m \u001b[0mmap_exceptions\u001b[0m\u001b[0;34m(\u001b[0m\u001b[0mexc_map\u001b[0m\u001b[0;34m)\u001b[0m\u001b[0;34m:\u001b[0m\u001b[0;34m\u001b[0m\u001b[0;34m\u001b[0m\u001b[0m\n\u001b[1;32m    125\u001b[0m             \u001b[0mself\u001b[0m\u001b[0;34m.\u001b[0m\u001b[0m_sock\u001b[0m\u001b[0;34m.\u001b[0m\u001b[0msettimeout\u001b[0m\u001b[0;34m(\u001b[0m\u001b[0mtimeout\u001b[0m\u001b[0;34m)\u001b[0m\u001b[0;34m\u001b[0m\u001b[0;34m\u001b[0m\u001b[0m\n\u001b[0;32m--> 126\u001b[0;31m             \u001b[0;32mreturn\u001b[0m \u001b[0mself\u001b[0m\u001b[0;34m.\u001b[0m\u001b[0m_sock\u001b[0m\u001b[0;34m.\u001b[0m\u001b[0mrecv\u001b[0m\u001b[0;34m(\u001b[0m\u001b[0mmax_bytes\u001b[0m\u001b[0;34m)\u001b[0m\u001b[0;34m\u001b[0m\u001b[0;34m\u001b[0m\u001b[0m\n\u001b[0m\u001b[1;32m    127\u001b[0m \u001b[0;34m\u001b[0m\u001b[0m\n\u001b[1;32m    128\u001b[0m     \u001b[0;32mdef\u001b[0m \u001b[0mwrite\u001b[0m\u001b[0;34m(\u001b[0m\u001b[0mself\u001b[0m\u001b[0;34m,\u001b[0m \u001b[0mbuffer\u001b[0m\u001b[0;34m:\u001b[0m \u001b[0mbytes\u001b[0m\u001b[0;34m,\u001b[0m \u001b[0mtimeout\u001b[0m\u001b[0;34m:\u001b[0m \u001b[0mtyping\u001b[0m\u001b[0;34m.\u001b[0m\u001b[0mOptional\u001b[0m\u001b[0;34m[\u001b[0m\u001b[0mfloat\u001b[0m\u001b[0;34m]\u001b[0m \u001b[0;34m=\u001b[0m \u001b[0;32mNone\u001b[0m\u001b[0;34m)\u001b[0m \u001b[0;34m->\u001b[0m \u001b[0;32mNone\u001b[0m\u001b[0;34m:\u001b[0m\u001b[0;34m\u001b[0m\u001b[0;34m\u001b[0m\u001b[0m\n",
      "\u001b[0;31mKeyboardInterrupt\u001b[0m: "
     ]
    }
   ],
   "source": [
    "process_image(\"./images/ms_welcome.png\", \"mapler/llava-mistral\", prompt3, 0.0)"
   ]
  },
  {
   "cell_type": "code",
   "execution_count": 13,
   "id": "1a51502b",
   "metadata": {},
   "outputs": [
    {
     "name": "stdout",
     "output_type": "stream",
     "text": [
      "\n",
      "Model: mapler/llava-mistral - Processing ./images/ms_welcome.png\n",
      "\n",
      "\n",
      "I'm sorry, but I am unable to view images or webpages as a visual assistant"
     ]
    },
    {
     "ename": "KeyboardInterrupt",
     "evalue": "",
     "output_type": "error",
     "traceback": [
      "\u001b[0;31m---------------------------------------------------------------------------\u001b[0m",
      "\u001b[0;31mKeyboardInterrupt\u001b[0m                         Traceback (most recent call last)",
      "\u001b[0;32m/var/folders/dl/bxcn0n6d1pj338vdrsngy2_m0000gn/T/ipykernel_18353/858064066.py\u001b[0m in \u001b[0;36m<module>\u001b[0;34m\u001b[0m\n\u001b[1;32m      1\u001b[0m \u001b[0;31m# PROCESS IMAGE DIFFERENTLY ?\u001b[0m\u001b[0;34m\u001b[0m\u001b[0;34m\u001b[0m\u001b[0m\n\u001b[0;32m----> 2\u001b[0;31m \u001b[0mprocess_image7\u001b[0m\u001b[0;34m(\u001b[0m\u001b[0;34m\"./images/ms_welcome.png\"\u001b[0m\u001b[0;34m,\u001b[0m \u001b[0;34m\"mapler/llava-mistral\"\u001b[0m\u001b[0;34m,\u001b[0m \u001b[0mprompt3\u001b[0m\u001b[0;34m,\u001b[0m \u001b[0;36m0.0\u001b[0m\u001b[0;34m)\u001b[0m\u001b[0;34m\u001b[0m\u001b[0;34m\u001b[0m\u001b[0m\n\u001b[0m",
      "\u001b[0;32m/var/folders/dl/bxcn0n6d1pj338vdrsngy2_m0000gn/T/ipykernel_18353/3308135416.py\u001b[0m in \u001b[0;36mprocess_image7\u001b[0;34m(image_file, model, prompt, temperature)\u001b[0m\n\u001b[1;32m     10\u001b[0m     \u001b[0mfull_response\u001b[0m \u001b[0;34m=\u001b[0m \u001b[0;34m''\u001b[0m\u001b[0;34m\u001b[0m\u001b[0;34m\u001b[0m\u001b[0m\n\u001b[1;32m     11\u001b[0m     \u001b[0;31m# Generate a description of the image\u001b[0m\u001b[0;34m\u001b[0m\u001b[0;34m\u001b[0m\u001b[0m\n\u001b[0;32m---> 12\u001b[0;31m     for response in generate(model=model, \n\u001b[0m\u001b[1;32m     13\u001b[0m                              \u001b[0mprompt\u001b[0m\u001b[0;34m=\u001b[0m\u001b[0mprompt\u001b[0m\u001b[0;34m,\u001b[0m\u001b[0;34m\u001b[0m\u001b[0;34m\u001b[0m\u001b[0m\n\u001b[1;32m     14\u001b[0m                              \u001b[0mimages\u001b[0m\u001b[0;34m=\u001b[0m\u001b[0;34m[\u001b[0m\u001b[0mimage_file\u001b[0m\u001b[0;34m]\u001b[0m\u001b[0;34m,\u001b[0m\u001b[0;34m\u001b[0m\u001b[0;34m\u001b[0m\u001b[0m\n",
      "\u001b[0;32m/opt/anaconda3/lib/python3.9/site-packages/ollama/_client.py\u001b[0m in \u001b[0;36m_stream\u001b[0;34m(self, method, url, **kwargs)\u001b[0m\n\u001b[1;32m     84\u001b[0m         \u001b[0;32mraise\u001b[0m \u001b[0mResponseError\u001b[0m\u001b[0;34m(\u001b[0m\u001b[0me\u001b[0m\u001b[0;34m.\u001b[0m\u001b[0mresponse\u001b[0m\u001b[0;34m.\u001b[0m\u001b[0mtext\u001b[0m\u001b[0;34m,\u001b[0m \u001b[0me\u001b[0m\u001b[0;34m.\u001b[0m\u001b[0mresponse\u001b[0m\u001b[0;34m.\u001b[0m\u001b[0mstatus_code\u001b[0m\u001b[0;34m)\u001b[0m \u001b[0;32mfrom\u001b[0m \u001b[0;32mNone\u001b[0m\u001b[0;34m\u001b[0m\u001b[0;34m\u001b[0m\u001b[0m\n\u001b[1;32m     85\u001b[0m \u001b[0;34m\u001b[0m\u001b[0m\n\u001b[0;32m---> 86\u001b[0;31m       \u001b[0;32mfor\u001b[0m \u001b[0mline\u001b[0m \u001b[0;32min\u001b[0m \u001b[0mr\u001b[0m\u001b[0;34m.\u001b[0m\u001b[0miter_lines\u001b[0m\u001b[0;34m(\u001b[0m\u001b[0;34m)\u001b[0m\u001b[0;34m:\u001b[0m\u001b[0;34m\u001b[0m\u001b[0;34m\u001b[0m\u001b[0m\n\u001b[0m\u001b[1;32m     87\u001b[0m         \u001b[0mpartial\u001b[0m \u001b[0;34m=\u001b[0m \u001b[0mjson\u001b[0m\u001b[0;34m.\u001b[0m\u001b[0mloads\u001b[0m\u001b[0;34m(\u001b[0m\u001b[0mline\u001b[0m\u001b[0;34m)\u001b[0m\u001b[0;34m\u001b[0m\u001b[0;34m\u001b[0m\u001b[0m\n\u001b[1;32m     88\u001b[0m         \u001b[0;32mif\u001b[0m \u001b[0me\u001b[0m \u001b[0;34m:=\u001b[0m \u001b[0mpartial\u001b[0m\u001b[0;34m.\u001b[0m\u001b[0mget\u001b[0m\u001b[0;34m(\u001b[0m\u001b[0;34m'error'\u001b[0m\u001b[0;34m)\u001b[0m\u001b[0;34m:\u001b[0m\u001b[0;34m\u001b[0m\u001b[0;34m\u001b[0m\u001b[0m\n",
      "\u001b[0;32m/opt/anaconda3/lib/python3.9/site-packages/httpx/_models.py\u001b[0m in \u001b[0;36miter_lines\u001b[0;34m(self)\u001b[0m\n\u001b[1;32m    859\u001b[0m         \u001b[0mdecoder\u001b[0m \u001b[0;34m=\u001b[0m \u001b[0mLineDecoder\u001b[0m\u001b[0;34m(\u001b[0m\u001b[0;34m)\u001b[0m\u001b[0;34m\u001b[0m\u001b[0;34m\u001b[0m\u001b[0m\n\u001b[1;32m    860\u001b[0m         \u001b[0;32mwith\u001b[0m \u001b[0mrequest_context\u001b[0m\u001b[0;34m(\u001b[0m\u001b[0mrequest\u001b[0m\u001b[0;34m=\u001b[0m\u001b[0mself\u001b[0m\u001b[0;34m.\u001b[0m\u001b[0m_request\u001b[0m\u001b[0;34m)\u001b[0m\u001b[0;34m:\u001b[0m\u001b[0;34m\u001b[0m\u001b[0;34m\u001b[0m\u001b[0m\n\u001b[0;32m--> 861\u001b[0;31m             \u001b[0;32mfor\u001b[0m \u001b[0mtext\u001b[0m \u001b[0;32min\u001b[0m \u001b[0mself\u001b[0m\u001b[0;34m.\u001b[0m\u001b[0miter_text\u001b[0m\u001b[0;34m(\u001b[0m\u001b[0;34m)\u001b[0m\u001b[0;34m:\u001b[0m\u001b[0;34m\u001b[0m\u001b[0;34m\u001b[0m\u001b[0m\n\u001b[0m\u001b[1;32m    862\u001b[0m                 \u001b[0;32mfor\u001b[0m \u001b[0mline\u001b[0m \u001b[0;32min\u001b[0m \u001b[0mdecoder\u001b[0m\u001b[0;34m.\u001b[0m\u001b[0mdecode\u001b[0m\u001b[0;34m(\u001b[0m\u001b[0mtext\u001b[0m\u001b[0;34m)\u001b[0m\u001b[0;34m:\u001b[0m\u001b[0;34m\u001b[0m\u001b[0;34m\u001b[0m\u001b[0m\n\u001b[1;32m    863\u001b[0m                     \u001b[0;32myield\u001b[0m \u001b[0mline\u001b[0m\u001b[0;34m\u001b[0m\u001b[0;34m\u001b[0m\u001b[0m\n",
      "\u001b[0;32m/opt/anaconda3/lib/python3.9/site-packages/httpx/_models.py\u001b[0m in \u001b[0;36miter_text\u001b[0;34m(self, chunk_size)\u001b[0m\n\u001b[1;32m    846\u001b[0m         \u001b[0mchunker\u001b[0m \u001b[0;34m=\u001b[0m \u001b[0mTextChunker\u001b[0m\u001b[0;34m(\u001b[0m\u001b[0mchunk_size\u001b[0m\u001b[0;34m=\u001b[0m\u001b[0mchunk_size\u001b[0m\u001b[0;34m)\u001b[0m\u001b[0;34m\u001b[0m\u001b[0;34m\u001b[0m\u001b[0m\n\u001b[1;32m    847\u001b[0m         \u001b[0;32mwith\u001b[0m \u001b[0mrequest_context\u001b[0m\u001b[0;34m(\u001b[0m\u001b[0mrequest\u001b[0m\u001b[0;34m=\u001b[0m\u001b[0mself\u001b[0m\u001b[0;34m.\u001b[0m\u001b[0m_request\u001b[0m\u001b[0;34m)\u001b[0m\u001b[0;34m:\u001b[0m\u001b[0;34m\u001b[0m\u001b[0;34m\u001b[0m\u001b[0m\n\u001b[0;32m--> 848\u001b[0;31m             \u001b[0;32mfor\u001b[0m \u001b[0mbyte_content\u001b[0m \u001b[0;32min\u001b[0m \u001b[0mself\u001b[0m\u001b[0;34m.\u001b[0m\u001b[0miter_bytes\u001b[0m\u001b[0;34m(\u001b[0m\u001b[0;34m)\u001b[0m\u001b[0;34m:\u001b[0m\u001b[0;34m\u001b[0m\u001b[0;34m\u001b[0m\u001b[0m\n\u001b[0m\u001b[1;32m    849\u001b[0m                 \u001b[0mtext_content\u001b[0m \u001b[0;34m=\u001b[0m \u001b[0mdecoder\u001b[0m\u001b[0;34m.\u001b[0m\u001b[0mdecode\u001b[0m\u001b[0;34m(\u001b[0m\u001b[0mbyte_content\u001b[0m\u001b[0;34m)\u001b[0m\u001b[0;34m\u001b[0m\u001b[0;34m\u001b[0m\u001b[0m\n\u001b[1;32m    850\u001b[0m                 \u001b[0;32mfor\u001b[0m \u001b[0mchunk\u001b[0m \u001b[0;32min\u001b[0m \u001b[0mchunker\u001b[0m\u001b[0;34m.\u001b[0m\u001b[0mdecode\u001b[0m\u001b[0;34m(\u001b[0m\u001b[0mtext_content\u001b[0m\u001b[0;34m)\u001b[0m\u001b[0;34m:\u001b[0m\u001b[0;34m\u001b[0m\u001b[0;34m\u001b[0m\u001b[0m\n",
      "\u001b[0;32m/opt/anaconda3/lib/python3.9/site-packages/httpx/_models.py\u001b[0m in \u001b[0;36miter_bytes\u001b[0;34m(self, chunk_size)\u001b[0m\n\u001b[1;32m    827\u001b[0m             \u001b[0mchunker\u001b[0m \u001b[0;34m=\u001b[0m \u001b[0mByteChunker\u001b[0m\u001b[0;34m(\u001b[0m\u001b[0mchunk_size\u001b[0m\u001b[0;34m=\u001b[0m\u001b[0mchunk_size\u001b[0m\u001b[0;34m)\u001b[0m\u001b[0;34m\u001b[0m\u001b[0;34m\u001b[0m\u001b[0m\n\u001b[1;32m    828\u001b[0m             \u001b[0;32mwith\u001b[0m \u001b[0mrequest_context\u001b[0m\u001b[0;34m(\u001b[0m\u001b[0mrequest\u001b[0m\u001b[0;34m=\u001b[0m\u001b[0mself\u001b[0m\u001b[0;34m.\u001b[0m\u001b[0m_request\u001b[0m\u001b[0;34m)\u001b[0m\u001b[0;34m:\u001b[0m\u001b[0;34m\u001b[0m\u001b[0;34m\u001b[0m\u001b[0m\n\u001b[0;32m--> 829\u001b[0;31m                 \u001b[0;32mfor\u001b[0m \u001b[0mraw_bytes\u001b[0m \u001b[0;32min\u001b[0m \u001b[0mself\u001b[0m\u001b[0;34m.\u001b[0m\u001b[0miter_raw\u001b[0m\u001b[0;34m(\u001b[0m\u001b[0;34m)\u001b[0m\u001b[0;34m:\u001b[0m\u001b[0;34m\u001b[0m\u001b[0;34m\u001b[0m\u001b[0m\n\u001b[0m\u001b[1;32m    830\u001b[0m                     \u001b[0mdecoded\u001b[0m \u001b[0;34m=\u001b[0m \u001b[0mdecoder\u001b[0m\u001b[0;34m.\u001b[0m\u001b[0mdecode\u001b[0m\u001b[0;34m(\u001b[0m\u001b[0mraw_bytes\u001b[0m\u001b[0;34m)\u001b[0m\u001b[0;34m\u001b[0m\u001b[0;34m\u001b[0m\u001b[0m\n\u001b[1;32m    831\u001b[0m                     \u001b[0;32mfor\u001b[0m \u001b[0mchunk\u001b[0m \u001b[0;32min\u001b[0m \u001b[0mchunker\u001b[0m\u001b[0;34m.\u001b[0m\u001b[0mdecode\u001b[0m\u001b[0;34m(\u001b[0m\u001b[0mdecoded\u001b[0m\u001b[0;34m)\u001b[0m\u001b[0;34m:\u001b[0m\u001b[0;34m\u001b[0m\u001b[0;34m\u001b[0m\u001b[0m\n",
      "\u001b[0;32m/opt/anaconda3/lib/python3.9/site-packages/httpx/_models.py\u001b[0m in \u001b[0;36miter_raw\u001b[0;34m(self, chunk_size)\u001b[0m\n\u001b[1;32m    881\u001b[0m \u001b[0;34m\u001b[0m\u001b[0m\n\u001b[1;32m    882\u001b[0m         \u001b[0;32mwith\u001b[0m \u001b[0mrequest_context\u001b[0m\u001b[0;34m(\u001b[0m\u001b[0mrequest\u001b[0m\u001b[0;34m=\u001b[0m\u001b[0mself\u001b[0m\u001b[0;34m.\u001b[0m\u001b[0m_request\u001b[0m\u001b[0;34m)\u001b[0m\u001b[0;34m:\u001b[0m\u001b[0;34m\u001b[0m\u001b[0;34m\u001b[0m\u001b[0m\n\u001b[0;32m--> 883\u001b[0;31m             \u001b[0;32mfor\u001b[0m \u001b[0mraw_stream_bytes\u001b[0m \u001b[0;32min\u001b[0m \u001b[0mself\u001b[0m\u001b[0;34m.\u001b[0m\u001b[0mstream\u001b[0m\u001b[0;34m:\u001b[0m\u001b[0;34m\u001b[0m\u001b[0;34m\u001b[0m\u001b[0m\n\u001b[0m\u001b[1;32m    884\u001b[0m                 \u001b[0mself\u001b[0m\u001b[0;34m.\u001b[0m\u001b[0m_num_bytes_downloaded\u001b[0m \u001b[0;34m+=\u001b[0m \u001b[0mlen\u001b[0m\u001b[0;34m(\u001b[0m\u001b[0mraw_stream_bytes\u001b[0m\u001b[0;34m)\u001b[0m\u001b[0;34m\u001b[0m\u001b[0;34m\u001b[0m\u001b[0m\n\u001b[1;32m    885\u001b[0m                 \u001b[0;32mfor\u001b[0m \u001b[0mchunk\u001b[0m \u001b[0;32min\u001b[0m \u001b[0mchunker\u001b[0m\u001b[0;34m.\u001b[0m\u001b[0mdecode\u001b[0m\u001b[0;34m(\u001b[0m\u001b[0mraw_stream_bytes\u001b[0m\u001b[0;34m)\u001b[0m\u001b[0;34m:\u001b[0m\u001b[0;34m\u001b[0m\u001b[0;34m\u001b[0m\u001b[0m\n",
      "\u001b[0;32m/opt/anaconda3/lib/python3.9/site-packages/httpx/_client.py\u001b[0m in \u001b[0;36m__iter__\u001b[0;34m(self)\u001b[0m\n\u001b[1;32m    124\u001b[0m \u001b[0;34m\u001b[0m\u001b[0m\n\u001b[1;32m    125\u001b[0m     \u001b[0;32mdef\u001b[0m \u001b[0m__iter__\u001b[0m\u001b[0;34m(\u001b[0m\u001b[0mself\u001b[0m\u001b[0;34m)\u001b[0m \u001b[0;34m->\u001b[0m \u001b[0mtyping\u001b[0m\u001b[0;34m.\u001b[0m\u001b[0mIterator\u001b[0m\u001b[0;34m[\u001b[0m\u001b[0mbytes\u001b[0m\u001b[0;34m]\u001b[0m\u001b[0;34m:\u001b[0m\u001b[0;34m\u001b[0m\u001b[0;34m\u001b[0m\u001b[0m\n\u001b[0;32m--> 126\u001b[0;31m         \u001b[0;32mfor\u001b[0m \u001b[0mchunk\u001b[0m \u001b[0;32min\u001b[0m \u001b[0mself\u001b[0m\u001b[0;34m.\u001b[0m\u001b[0m_stream\u001b[0m\u001b[0;34m:\u001b[0m\u001b[0;34m\u001b[0m\u001b[0;34m\u001b[0m\u001b[0m\n\u001b[0m\u001b[1;32m    127\u001b[0m             \u001b[0;32myield\u001b[0m \u001b[0mchunk\u001b[0m\u001b[0;34m\u001b[0m\u001b[0;34m\u001b[0m\u001b[0m\n\u001b[1;32m    128\u001b[0m \u001b[0;34m\u001b[0m\u001b[0m\n",
      "\u001b[0;32m/opt/anaconda3/lib/python3.9/site-packages/httpx/_transports/default.py\u001b[0m in \u001b[0;36m__iter__\u001b[0;34m(self)\u001b[0m\n\u001b[1;32m    111\u001b[0m     \u001b[0;32mdef\u001b[0m \u001b[0m__iter__\u001b[0m\u001b[0;34m(\u001b[0m\u001b[0mself\u001b[0m\u001b[0;34m)\u001b[0m \u001b[0;34m->\u001b[0m \u001b[0mtyping\u001b[0m\u001b[0;34m.\u001b[0m\u001b[0mIterator\u001b[0m\u001b[0;34m[\u001b[0m\u001b[0mbytes\u001b[0m\u001b[0;34m]\u001b[0m\u001b[0;34m:\u001b[0m\u001b[0;34m\u001b[0m\u001b[0;34m\u001b[0m\u001b[0m\n\u001b[1;32m    112\u001b[0m         \u001b[0;32mwith\u001b[0m \u001b[0mmap_httpcore_exceptions\u001b[0m\u001b[0;34m(\u001b[0m\u001b[0;34m)\u001b[0m\u001b[0;34m:\u001b[0m\u001b[0;34m\u001b[0m\u001b[0;34m\u001b[0m\u001b[0m\n\u001b[0;32m--> 113\u001b[0;31m             \u001b[0;32mfor\u001b[0m \u001b[0mpart\u001b[0m \u001b[0;32min\u001b[0m \u001b[0mself\u001b[0m\u001b[0;34m.\u001b[0m\u001b[0m_httpcore_stream\u001b[0m\u001b[0;34m:\u001b[0m\u001b[0;34m\u001b[0m\u001b[0;34m\u001b[0m\u001b[0m\n\u001b[0m\u001b[1;32m    114\u001b[0m                 \u001b[0;32myield\u001b[0m \u001b[0mpart\u001b[0m\u001b[0;34m\u001b[0m\u001b[0;34m\u001b[0m\u001b[0m\n\u001b[1;32m    115\u001b[0m \u001b[0;34m\u001b[0m\u001b[0m\n",
      "\u001b[0;32m/opt/anaconda3/lib/python3.9/site-packages/httpcore/_sync/connection_pool.py\u001b[0m in \u001b[0;36m__iter__\u001b[0;34m(self)\u001b[0m\n\u001b[1;32m    365\u001b[0m         \u001b[0;32mexcept\u001b[0m \u001b[0mBaseException\u001b[0m \u001b[0;32mas\u001b[0m \u001b[0mexc\u001b[0m\u001b[0;34m:\u001b[0m\u001b[0;34m\u001b[0m\u001b[0;34m\u001b[0m\u001b[0m\n\u001b[1;32m    366\u001b[0m             \u001b[0mself\u001b[0m\u001b[0;34m.\u001b[0m\u001b[0mclose\u001b[0m\u001b[0;34m(\u001b[0m\u001b[0;34m)\u001b[0m\u001b[0;34m\u001b[0m\u001b[0;34m\u001b[0m\u001b[0m\n\u001b[0;32m--> 367\u001b[0;31m             \u001b[0;32mraise\u001b[0m \u001b[0mexc\u001b[0m \u001b[0;32mfrom\u001b[0m \u001b[0;32mNone\u001b[0m\u001b[0;34m\u001b[0m\u001b[0;34m\u001b[0m\u001b[0m\n\u001b[0m\u001b[1;32m    368\u001b[0m \u001b[0;34m\u001b[0m\u001b[0m\n\u001b[1;32m    369\u001b[0m     \u001b[0;32mdef\u001b[0m \u001b[0mclose\u001b[0m\u001b[0;34m(\u001b[0m\u001b[0mself\u001b[0m\u001b[0;34m)\u001b[0m \u001b[0;34m->\u001b[0m \u001b[0;32mNone\u001b[0m\u001b[0;34m:\u001b[0m\u001b[0;34m\u001b[0m\u001b[0;34m\u001b[0m\u001b[0m\n",
      "\u001b[0;32m/opt/anaconda3/lib/python3.9/site-packages/httpcore/_sync/connection_pool.py\u001b[0m in \u001b[0;36m__iter__\u001b[0;34m(self)\u001b[0m\n\u001b[1;32m    361\u001b[0m     \u001b[0;32mdef\u001b[0m \u001b[0m__iter__\u001b[0m\u001b[0;34m(\u001b[0m\u001b[0mself\u001b[0m\u001b[0;34m)\u001b[0m \u001b[0;34m->\u001b[0m \u001b[0mIterator\u001b[0m\u001b[0;34m[\u001b[0m\u001b[0mbytes\u001b[0m\u001b[0;34m]\u001b[0m\u001b[0;34m:\u001b[0m\u001b[0;34m\u001b[0m\u001b[0;34m\u001b[0m\u001b[0m\n\u001b[1;32m    362\u001b[0m         \u001b[0;32mtry\u001b[0m\u001b[0;34m:\u001b[0m\u001b[0;34m\u001b[0m\u001b[0;34m\u001b[0m\u001b[0m\n\u001b[0;32m--> 363\u001b[0;31m             \u001b[0;32mfor\u001b[0m \u001b[0mpart\u001b[0m \u001b[0;32min\u001b[0m \u001b[0mself\u001b[0m\u001b[0;34m.\u001b[0m\u001b[0m_stream\u001b[0m\u001b[0;34m:\u001b[0m\u001b[0;34m\u001b[0m\u001b[0;34m\u001b[0m\u001b[0m\n\u001b[0m\u001b[1;32m    364\u001b[0m                 \u001b[0;32myield\u001b[0m \u001b[0mpart\u001b[0m\u001b[0;34m\u001b[0m\u001b[0;34m\u001b[0m\u001b[0m\n\u001b[1;32m    365\u001b[0m         \u001b[0;32mexcept\u001b[0m \u001b[0mBaseException\u001b[0m \u001b[0;32mas\u001b[0m \u001b[0mexc\u001b[0m\u001b[0;34m:\u001b[0m\u001b[0;34m\u001b[0m\u001b[0;34m\u001b[0m\u001b[0m\n",
      "\u001b[0;32m/opt/anaconda3/lib/python3.9/site-packages/httpcore/_sync/http11.py\u001b[0m in \u001b[0;36m__iter__\u001b[0;34m(self)\u001b[0m\n\u001b[1;32m    347\u001b[0m             \u001b[0;32mwith\u001b[0m \u001b[0mShieldCancellation\u001b[0m\u001b[0;34m(\u001b[0m\u001b[0;34m)\u001b[0m\u001b[0;34m:\u001b[0m\u001b[0;34m\u001b[0m\u001b[0;34m\u001b[0m\u001b[0m\n\u001b[1;32m    348\u001b[0m                 \u001b[0mself\u001b[0m\u001b[0;34m.\u001b[0m\u001b[0mclose\u001b[0m\u001b[0;34m(\u001b[0m\u001b[0;34m)\u001b[0m\u001b[0;34m\u001b[0m\u001b[0;34m\u001b[0m\u001b[0m\n\u001b[0;32m--> 349\u001b[0;31m             \u001b[0;32mraise\u001b[0m \u001b[0mexc\u001b[0m\u001b[0;34m\u001b[0m\u001b[0;34m\u001b[0m\u001b[0m\n\u001b[0m\u001b[1;32m    350\u001b[0m \u001b[0;34m\u001b[0m\u001b[0m\n\u001b[1;32m    351\u001b[0m     \u001b[0;32mdef\u001b[0m \u001b[0mclose\u001b[0m\u001b[0;34m(\u001b[0m\u001b[0mself\u001b[0m\u001b[0;34m)\u001b[0m \u001b[0;34m->\u001b[0m \u001b[0;32mNone\u001b[0m\u001b[0;34m:\u001b[0m\u001b[0;34m\u001b[0m\u001b[0;34m\u001b[0m\u001b[0m\n",
      "\u001b[0;32m/opt/anaconda3/lib/python3.9/site-packages/httpcore/_sync/http11.py\u001b[0m in \u001b[0;36m__iter__\u001b[0;34m(self)\u001b[0m\n\u001b[1;32m    339\u001b[0m         \u001b[0;32mtry\u001b[0m\u001b[0;34m:\u001b[0m\u001b[0;34m\u001b[0m\u001b[0;34m\u001b[0m\u001b[0m\n\u001b[1;32m    340\u001b[0m             \u001b[0;32mwith\u001b[0m \u001b[0mTrace\u001b[0m\u001b[0;34m(\u001b[0m\u001b[0;34m\"receive_response_body\"\u001b[0m\u001b[0;34m,\u001b[0m \u001b[0mlogger\u001b[0m\u001b[0;34m,\u001b[0m \u001b[0mself\u001b[0m\u001b[0;34m.\u001b[0m\u001b[0m_request\u001b[0m\u001b[0;34m,\u001b[0m \u001b[0mkwargs\u001b[0m\u001b[0;34m)\u001b[0m\u001b[0;34m:\u001b[0m\u001b[0;34m\u001b[0m\u001b[0;34m\u001b[0m\u001b[0m\n\u001b[0;32m--> 341\u001b[0;31m                 \u001b[0;32mfor\u001b[0m \u001b[0mchunk\u001b[0m \u001b[0;32min\u001b[0m \u001b[0mself\u001b[0m\u001b[0;34m.\u001b[0m\u001b[0m_connection\u001b[0m\u001b[0;34m.\u001b[0m\u001b[0m_receive_response_body\u001b[0m\u001b[0;34m(\u001b[0m\u001b[0;34m**\u001b[0m\u001b[0mkwargs\u001b[0m\u001b[0;34m)\u001b[0m\u001b[0;34m:\u001b[0m\u001b[0;34m\u001b[0m\u001b[0;34m\u001b[0m\u001b[0m\n\u001b[0m\u001b[1;32m    342\u001b[0m                     \u001b[0;32myield\u001b[0m \u001b[0mchunk\u001b[0m\u001b[0;34m\u001b[0m\u001b[0;34m\u001b[0m\u001b[0m\n\u001b[1;32m    343\u001b[0m         \u001b[0;32mexcept\u001b[0m \u001b[0mBaseException\u001b[0m \u001b[0;32mas\u001b[0m \u001b[0mexc\u001b[0m\u001b[0;34m:\u001b[0m\u001b[0;34m\u001b[0m\u001b[0;34m\u001b[0m\u001b[0m\n",
      "\u001b[0;32m/opt/anaconda3/lib/python3.9/site-packages/httpcore/_sync/http11.py\u001b[0m in \u001b[0;36m_receive_response_body\u001b[0;34m(self, request)\u001b[0m\n\u001b[1;32m    208\u001b[0m \u001b[0;34m\u001b[0m\u001b[0m\n\u001b[1;32m    209\u001b[0m         \u001b[0;32mwhile\u001b[0m \u001b[0;32mTrue\u001b[0m\u001b[0;34m:\u001b[0m\u001b[0;34m\u001b[0m\u001b[0;34m\u001b[0m\u001b[0m\n\u001b[0;32m--> 210\u001b[0;31m             \u001b[0mevent\u001b[0m \u001b[0;34m=\u001b[0m \u001b[0mself\u001b[0m\u001b[0;34m.\u001b[0m\u001b[0m_receive_event\u001b[0m\u001b[0;34m(\u001b[0m\u001b[0mtimeout\u001b[0m\u001b[0;34m=\u001b[0m\u001b[0mtimeout\u001b[0m\u001b[0;34m)\u001b[0m\u001b[0;34m\u001b[0m\u001b[0;34m\u001b[0m\u001b[0m\n\u001b[0m\u001b[1;32m    211\u001b[0m             \u001b[0;32mif\u001b[0m \u001b[0misinstance\u001b[0m\u001b[0;34m(\u001b[0m\u001b[0mevent\u001b[0m\u001b[0;34m,\u001b[0m \u001b[0mh11\u001b[0m\u001b[0;34m.\u001b[0m\u001b[0mData\u001b[0m\u001b[0;34m)\u001b[0m\u001b[0;34m:\u001b[0m\u001b[0;34m\u001b[0m\u001b[0;34m\u001b[0m\u001b[0m\n\u001b[1;32m    212\u001b[0m                 \u001b[0;32myield\u001b[0m \u001b[0mbytes\u001b[0m\u001b[0;34m(\u001b[0m\u001b[0mevent\u001b[0m\u001b[0;34m.\u001b[0m\u001b[0mdata\u001b[0m\u001b[0;34m)\u001b[0m\u001b[0;34m\u001b[0m\u001b[0;34m\u001b[0m\u001b[0m\n",
      "\u001b[0;32m/opt/anaconda3/lib/python3.9/site-packages/httpcore/_sync/http11.py\u001b[0m in \u001b[0;36m_receive_event\u001b[0;34m(self, timeout)\u001b[0m\n\u001b[1;32m    222\u001b[0m \u001b[0;34m\u001b[0m\u001b[0m\n\u001b[1;32m    223\u001b[0m             \u001b[0;32mif\u001b[0m \u001b[0mevent\u001b[0m \u001b[0;32mis\u001b[0m \u001b[0mh11\u001b[0m\u001b[0;34m.\u001b[0m\u001b[0mNEED_DATA\u001b[0m\u001b[0;34m:\u001b[0m\u001b[0;34m\u001b[0m\u001b[0;34m\u001b[0m\u001b[0m\n\u001b[0;32m--> 224\u001b[0;31m                 data = self._network_stream.read(\n\u001b[0m\u001b[1;32m    225\u001b[0m                     \u001b[0mself\u001b[0m\u001b[0;34m.\u001b[0m\u001b[0mREAD_NUM_BYTES\u001b[0m\u001b[0;34m,\u001b[0m \u001b[0mtimeout\u001b[0m\u001b[0;34m=\u001b[0m\u001b[0mtimeout\u001b[0m\u001b[0;34m\u001b[0m\u001b[0;34m\u001b[0m\u001b[0m\n\u001b[1;32m    226\u001b[0m                 )\n",
      "\u001b[0;32m/opt/anaconda3/lib/python3.9/site-packages/httpcore/_backends/sync.py\u001b[0m in \u001b[0;36mread\u001b[0;34m(self, max_bytes, timeout)\u001b[0m\n\u001b[1;32m    124\u001b[0m         \u001b[0;32mwith\u001b[0m \u001b[0mmap_exceptions\u001b[0m\u001b[0;34m(\u001b[0m\u001b[0mexc_map\u001b[0m\u001b[0;34m)\u001b[0m\u001b[0;34m:\u001b[0m\u001b[0;34m\u001b[0m\u001b[0;34m\u001b[0m\u001b[0m\n\u001b[1;32m    125\u001b[0m             \u001b[0mself\u001b[0m\u001b[0;34m.\u001b[0m\u001b[0m_sock\u001b[0m\u001b[0;34m.\u001b[0m\u001b[0msettimeout\u001b[0m\u001b[0;34m(\u001b[0m\u001b[0mtimeout\u001b[0m\u001b[0;34m)\u001b[0m\u001b[0;34m\u001b[0m\u001b[0;34m\u001b[0m\u001b[0m\n\u001b[0;32m--> 126\u001b[0;31m             \u001b[0;32mreturn\u001b[0m \u001b[0mself\u001b[0m\u001b[0;34m.\u001b[0m\u001b[0m_sock\u001b[0m\u001b[0;34m.\u001b[0m\u001b[0mrecv\u001b[0m\u001b[0;34m(\u001b[0m\u001b[0mmax_bytes\u001b[0m\u001b[0;34m)\u001b[0m\u001b[0;34m\u001b[0m\u001b[0;34m\u001b[0m\u001b[0m\n\u001b[0m\u001b[1;32m    127\u001b[0m \u001b[0;34m\u001b[0m\u001b[0m\n\u001b[1;32m    128\u001b[0m     \u001b[0;32mdef\u001b[0m \u001b[0mwrite\u001b[0m\u001b[0;34m(\u001b[0m\u001b[0mself\u001b[0m\u001b[0;34m,\u001b[0m \u001b[0mbuffer\u001b[0m\u001b[0;34m:\u001b[0m \u001b[0mbytes\u001b[0m\u001b[0;34m,\u001b[0m \u001b[0mtimeout\u001b[0m\u001b[0;34m:\u001b[0m \u001b[0mtyping\u001b[0m\u001b[0;34m.\u001b[0m\u001b[0mOptional\u001b[0m\u001b[0;34m[\u001b[0m\u001b[0mfloat\u001b[0m\u001b[0;34m]\u001b[0m \u001b[0;34m=\u001b[0m \u001b[0;32mNone\u001b[0m\u001b[0;34m)\u001b[0m \u001b[0;34m->\u001b[0m \u001b[0;32mNone\u001b[0m\u001b[0;34m:\u001b[0m\u001b[0;34m\u001b[0m\u001b[0;34m\u001b[0m\u001b[0m\n",
      "\u001b[0;31mKeyboardInterrupt\u001b[0m: "
     ]
    }
   ],
   "source": [
    "# PROCESS IMAGE DIFFERENTLY ?\n",
    "process_image2(\"./images/ms_welcome.png\", \"mapler/llava-mistral\", prompt3, 0.0)"
   ]
  },
  {
   "cell_type": "markdown",
   "id": "7536522c",
   "metadata": {},
   "source": [
    "## LLaVA-Phi3 through Ollama (small LLaVA model fine-tuned from Phi 3 Mini)\n",
    "https://ollama.com/library/llava-phi3\n",
    "https://medium.com/@rajeshmanikumarg/llava-phi-3-mini-lm-studio-large-language-and-vision-assistant-local-setup-a24182616bfd"
   ]
  },
  {
   "cell_type": "code",
   "execution_count": 13,
   "id": "114fb3d6",
   "metadata": {
    "scrolled": false
   },
   "outputs": [
    {
     "name": "stdout",
     "output_type": "stream",
     "text": [
      "\n",
      "Processing ./images/ms_welcome.png\n",
      "\n",
      "The image is a screenshot of the Morgan Stanley website. The background color of the webpage is white, providing a stark contrast to the blue header bar at the top. The main content area of the page prominently displays an advertisement for an amusement park ride called \"What We Do\". \n",
      "\n",
      "The advertisement features several people enjoying the roller coaster ride named \"Flight Deck 1\", which is set against a backdrop that appears to be a clear blue sky dotted with fluffy white clouds. The text within the image reads, \"Get ready for some serious adrenaline jolts as you soar above the park on our high-flying roller coaster!\". \n",
      "\n",
      "The website also includes additional details about the ride at the bottom of the page, presumably providing more information to potential visitors. The overall layout and design suggest that this is a promotional page for an upcoming event or attraction at the amusement park."
     ]
    }
   ],
   "source": [
    "for image_file in image_files:\n",
    "#     if image_file not in df['image_file'].values:\n",
    "        process_image(image_file, \"llava-phi3\", prompt1)"
   ]
  },
  {
   "cell_type": "code",
   "execution_count": 18,
   "id": "4301a195",
   "metadata": {
    "scrolled": false
   },
   "outputs": [
    {
     "name": "stdout",
     "output_type": "stream",
     "text": [
      "\n",
      "Model: llava-phi3 - Processing ./images/ms_welcome.png\n",
      "\n",
      "\n",
      "The image captures a screenshot of a website named \"What We Do\" operated by Morgan Stanley. The website has an open, white layout with black text and images against it. Dominating the top left corner is the company's logo featuring three red stripes on a blue background set against a white backdrop. Just below the logo, there are two American flags waving in the wind, adding a patriotic touch to the design.\n",
      "\n",
      "The main attraction of the website is an image of people enjoying a thrilling ride on a roller coaster track with water splashing around them, suggesting outdoor fun and adventure. The text beneath this image reads \"Fun-loving American families come together to experience the rush of adrenaline that only extreme sports can offer\". This suggests that the website is dedicated to promoting extreme sports among American families.\n",
      "\n",
      "The website also features a search bar located in the top right corner, allowing users to find specific information quickly. In contrast, social media buttons are positioned on the bottom left corner for easy access and sharing options with friends or followers. The overall design of the website is user-friendly and engaging, making it an ideal platform for promoting extreme sports among American families."
     ]
    }
   ],
   "source": [
    "for image_file in image_files:\n",
    "#     if image_file not in df['image_file'].values:\n",
    "        process_image(image_file, \"llava-phi3\", prompt2)"
   ]
  },
  {
   "cell_type": "markdown",
   "id": "112faf00",
   "metadata": {},
   "source": [
    "#### ANALYSIS\n",
    "\n",
    "ACCURATE:\n",
    "- recognizes \"What We Do\" text\n",
    "- recognizes Morgan Stanley\n",
    "- white layout with black text and images against it\n",
    "- top left corner is the company's logo \n",
    "- recognizes American flags below logo, rollercoasters, blue background, white backdrop (correct color, position, and some content)\n",
    "- recognize search bar at top right corner\n",
    "\n",
    "INACCURATE:\n",
    "- hallucinations: \n",
    "    - made up menu items \"Home,\" \"Contact Us,\"\n",
    "    - made up text beneath image of the rollercoaster - \"Fun-loving American families come together to experience the rush of adrenaline that only extreme sports can offer\"\n",
    "    - made up social media buttons are positioned on the bottom left corner\n",
    "- there are 3 not 2 American flags\n",
    "- inaccurate overall design goal (promote extreme sports)\n",
    "    \n",
    "OVERALL ANALYSIS: \n",
    "MUCH more accurate description with fewer hallucinations compared to LLaVA+prompt1, but fails to capture overall image purpose, text, and navigation accurately for the most part\n",
    "\n",
    "POSSIBLE CAUSES: \n",
    "prompt is not specific enough"
   ]
  },
  {
   "cell_type": "code",
   "execution_count": 19,
   "id": "e5a9ed41",
   "metadata": {
    "scrolled": true
   },
   "outputs": [
    {
     "name": "stdout",
     "output_type": "stream",
     "text": [
      "\n",
      "Model: llava-phi3 - Processing ./images/ms_welcome.png\n",
      "\n",
      "The image captures a moment on the iconic Cedar Point Amusement Park's Mill Race roller coaster. The roller coaster, known for its thrilling drops and twists, is in full swing, with people strapped securely into their seats. From this vantage point, we can see the top of the track, providing a unique perspective on the ride.\n",
      "\n",
      "Three American flags are prominently displayed against the backdrop of an overcast sky, fluttering in the wind as if cheering on the riders below. The colors of the flags - red, white, and blue - stand out vividly against the grayscale tones of the scene.\n",
      "\n",
      "Below this captivating visual is a video description that reads \"What We Do\". This text seems to hint at an exploration or explanation of the experiences and actions associated with amusement park rides like this roller coaster.\n",
      "\n",
      "The image also contains several hyperlinks, including one for 'About Us', suggesting that it's part of an online platform dedicated to providing information about Cedar Point Amusement Park. These links are strategically placed around the video description and at both the top and bottom corners of the image, making them easily accessible to viewers.\n",
      "\n",
      "The overall composition of the image suggests a dynamic, exciting atmosphere typical of a day at an amusement park, with elements like the rolling coaster and fluttering flags evoking feelings of thrill and adventure."
     ]
    }
   ],
   "source": [
    "for image_file in image_files:\n",
    "#     if image_file not in df['image_file'].values:\n",
    "        process_image(image_file, \"llava-phi3\", prompt3)"
   ]
  },
  {
   "cell_type": "markdown",
   "id": "a708ab3e",
   "metadata": {},
   "source": [
    "#### ANALYSIS\n",
    "\n",
    "ACCURATE:\n",
    "- recognizes \"What We Do\" text\n",
    "- recognizes Morgan Stanley\n",
    "- white layout with black text and images against it\n",
    "- top left corner is the company's logo \n",
    "- recognizes American flags below logo, rollercoasters, blue background, white backdrop (correct color, position, and some content)\n",
    "- recognize search bar at top right corner\n",
    "\n",
    "INACCURATE:\n",
    "- hallucinations: \n",
    "    - made up menu items \"Home,\" \"Contact Us,\"\n",
    "    - made up text beneath image of the rollercoaster - \"Fun-loving American families come together to experience the rush of adrenaline that only extreme sports can offer\"\n",
    "    - made up social media buttons are positioned on the bottom left corner\n",
    "- there are 3 not 2 American flags\n",
    "- inaccurate overall design goal (promote extreme sports)\n",
    "    \n",
    "OVERALL ANALYSIS: \n",
    "MUCH more accurate description with fewer hallucinations compared to LLaVA+prompt1, but fails to capture overall image purpose, text, and navigation accurately for the most part\n",
    "\n",
    "POSSIBLE CAUSES: \n",
    "prompt is not specific enough"
   ]
  },
  {
   "cell_type": "code",
   "execution_count": 12,
   "id": "5c59877e",
   "metadata": {},
   "outputs": [
    {
     "name": "stdout",
     "output_type": "stream",
     "text": [
      "\n",
      "Model: llava-phi3 - Processing ./images/ms_welcome.png\n",
      "\n",
      "\n",
      "The image is a screenshot of the Morgan Stanley website. The main focus of the image is an advertisement for Disneyland, which features a group of people riding on a roller coaster with American flags flying in the background. The text at the top of the page reads \"Morgan Stanley\" and there are several links visible below it, including one that says \"What We Do\". On the right side of the image, there is a search bar for users to find information on the website. The overall color scheme of the image is predominantly white and blue, with some yellow and red accents from the Disneyland advertisement."
     ]
    }
   ],
   "source": [
    "# LOWER THE TEMPERATURE:\n",
    "for image_file in image_files:\n",
    "#     if image_file not in df['image_file'].values:\n",
    "        process_image(image_file, \"llava-phi3\", prompt3, 0.3)"
   ]
  },
  {
   "cell_type": "markdown",
   "id": "06c3449d",
   "metadata": {},
   "source": [
    "#### ANALYSIS\n",
    "\n",
    "ACCURATE:\n",
    "- recognizes presence of rollercoaster + American red flags\n",
    "- recognizes \"Morgan Stanley\" text + position (top)\n",
    "- recognizes presence of links below \"Morgan Stanley\" text\n",
    "- recognizes \"What We Do\" text + position (bottom of \"Morgan Stanley\" text)\n",
    "- recognizes existence of search bar + its position (right side of image)\n",
    "\n",
    "INACCURATE:\n",
    "- claims this is an ad for Disneyland\n",
    "- no mention of menu item text, text inside image, or text below image\n",
    "    \n",
    "OVERALL ANALYSIS: \n",
    "THE MOST ACCURATE DESCRIPTION so far with the FEWEST hallucinations compared to previous prompts and LLaVA!!! BUT biggest downside is that it does not contain many specific details\n",
    "\n",
    "\n",
    "POSSIBLE CAUSES: \n",
    "model is too simple, tune parameters\n",
    "\n",
    "\n",
    "##### GENERAL OBSERVATIONS/PATTERNS SO FAR\n",
    "- not as detailed/specific as LLaVA\n",
    "    - sometimes mentions header and menu, but not very detailed at all\n",
    "    - fewer mentions of specific text (especially the menu items)\n",
    "    - also no mention of text inside the image\n",
    "    - fewer hallucinations with menu items but that might also be because it's less detailed overall\n",
    "- does recognize rollercoaster + American flag in image, as well as color\n",
    "- OVERALL: DOES NOT PERFORM AS WELL AS LLAVA IN TERMS OF DETAIL, BUT MIGHT RESULT IN FEWER HALLUCINATIONS WITH THE RIGHT PARAMETERS/TUNING"
   ]
  },
  {
   "cell_type": "code",
   "execution_count": 26,
   "id": "bdccd11e",
   "metadata": {},
   "outputs": [
    {
     "name": "stdout",
     "output_type": "stream",
     "text": [
      "\n",
      "Model: llava-phi3 - Processing ./images/ms_welcome.png\n",
      "\n",
      "The image captures a vibrant scene from the amusement park Six Flags Over Texas. Dominating the frame is a roller coaster track, painted in a striking shade of yellow. The track curves gracefully to the left, leading the eye towards two flags fluttering atop it - one red and white, the other blue and white. \n",
      "\n",
      "The website itself is bathed in a clean white background, with black text providing a stark contrast for easy readability. At the top of the page, you can see the logo of Six Flags Over Texas, proudly announcing its presence. Just below it, there's a navigation bar equipped with links to various sections of the site.\n",
      "\n",
      "The main attraction of the website is undoubtedly the \"What We Do\" section. It provides an intriguing glimpse into the inner workings of the amusement park, detailing its history and showcasing some of its thrilling rides. The text on this page is clear and concise, inviting visitors to explore more about what makes Six Flags Over Texas unique.\n",
      "\n",
      "Overall, the image presents a dynamic snapshot of an exciting day at Six Flags Over Texas, encapsulating the thrill and fun that await its visitors."
     ]
    }
   ],
   "source": [
    "# LOWER THE TEMPERATURE EVEN MORE (0.0)\n",
    "for image_file in image_files:\n",
    "#     if image_file not in df['image_file'].values:\n",
    "#         process_image(image_file, \"llava:13b-v1.6\")\n",
    "        process_image(image_file, \"llava-phi3\", prompt3, 0.0) #7b-v1.6"
   ]
  },
  {
   "cell_type": "markdown",
   "id": "bb4d1baf",
   "metadata": {},
   "source": [
    "## BakLLaVA through Ollama\n",
    "https://ollama.com/library/bakllava"
   ]
  },
  {
   "cell_type": "code",
   "execution_count": 7,
   "id": "bd54a5e8",
   "metadata": {},
   "outputs": [
    {
     "name": "stdout",
     "output_type": "stream",
     "text": [
      "\n",
      "Model: bakllava - Processing ./images/ms_welcome.png\n",
      "\n",
      "\n",
      "The website shown is morganstanley.com, which has a lot of information on it. On the front page, there are multiple menu items displayed at the top, such as \"about,\" \"contact,\" and \"careers.\" There's also a section that says, \"What We Do,\" with a brief description of the company's purpose. \n",
      "The website features several flags, suggesting a possible focus on American or global politics. A number of small images are scattered throughout the site, likely representing different aspects of the business or its principles."
     ]
    }
   ],
   "source": [
    "prompt3='Describe this image in as much detail as possible within 3 paragraphs, focusing on the text, position/coordinates/navigation, color, etc. of ALL the different components like text, images, menu items, links, etc.'\n",
    "\n",
    "for image_file in image_files:\n",
    "#     if image_file not in df['image_file'].values:\n",
    "        process_image(image_file, \"bakllava\", prompt3)"
   ]
  },
  {
   "cell_type": "code",
   "execution_count": 10,
   "id": "7c4679a4",
   "metadata": {},
   "outputs": [
    {
     "name": "stdout",
     "output_type": "stream",
     "text": [
      "\n",
      "Model: bakllava - Processing ./images/ms_welcome.png\n",
      "\n",
      "\n",
      "Morgan Stanley is the company shown on this website."
     ]
    }
   ],
   "source": [
    "prompt3='Describe this image in as much detail as possible within 250 words, focusing on the text, position/coordinates/navigation, color, etc. of ALL the different components like text, images, menu items, links, etc.'\n",
    "\n",
    "for image_file in image_files:\n",
    "#     if image_file not in df['image_file'].values:\n",
    "        process_image(image_file, \"bakllava\", prompt3, 0.0)"
   ]
  },
  {
   "cell_type": "code",
   "execution_count": 11,
   "id": "f10cc838",
   "metadata": {},
   "outputs": [
    {
     "name": "stdout",
     "output_type": "stream",
     "text": [
      "\n",
      "Model: bakllava - Processing ./images/ms_welcome.png\n",
      "\n",
      "\n",
      "Morgan Stanley is the company shown on this website."
     ]
    }
   ],
   "source": [
    "prompt4='Describe this image in as much detail as possible within 3 paragraphs, focusing on the text, position/coordinates/navigation, color, etc. of ALL the different components like text, images, menu items, links, etc. Only describe what you can see.'\n",
    "\n",
    "for image_file in image_files:\n",
    "#     if image_file not in df['image_file'].values:\n",
    "        process_image(image_file, \"bakllava\", prompt4, 0.0)"
   ]
  },
  {
   "cell_type": "code",
   "execution_count": 12,
   "id": "b74683bd",
   "metadata": {},
   "outputs": [
    {
     "name": "stdout",
     "output_type": "stream",
     "text": [
      "\n",
      "Model: bakllava - Processing ./images/ms_welcome.png\n",
      "\n",
      "\n",
      "a web page with the headline What We Do, and pictures of a roller coaster with American flags on it."
     ]
    }
   ],
   "source": [
    "prompt4='Describe this image in as much detail as possible within 3 paragraphs, focusing on the text, position/coordinates/navigation, color, etc. of ALL the different components like text, images, menu items, links, etc.'\n",
    "\n",
    "for image_file in image_files:\n",
    "#     if image_file not in df['image_file'].values:\n",
    "        process_image(image_file, \"bakllava\", prompt4)"
   ]
  },
  {
   "cell_type": "code",
   "execution_count": 13,
   "id": "7791f87f",
   "metadata": {
    "scrolled": true
   },
   "outputs": [
    {
     "name": "stdout",
     "output_type": "stream",
     "text": [
      "\n",
      "Model: bakllava - Processing ./images/ms_welcome.png\n",
      "\n",
      "\n",
      "The image is a website page that says \"What We Do\" on it. The page has two rows of text with one row placed above the other. There are three flags in the upper left corner and they appear to be waving. The text on the page seems to be an overview or description of what the site offers."
     ]
    }
   ],
   "source": [
    "prompt5='Describe this image in as much detail as possible. Describe the text, position/coordinates/navigation, color, etc. of ALL the different components like text, images, menu items, links, etc. Only describe what you can see.'\n",
    "\n",
    "for image_file in image_files:\n",
    "#     if image_file not in df['image_file'].values:\n",
    "        process_image(image_file, \"bakllava\", prompt5)"
   ]
  },
  {
   "cell_type": "markdown",
   "id": "e4bf4afc",
   "metadata": {},
   "source": [
    "## Phi-3 through Ollama\n",
    "https://ollama.com/library/phi3\n",
    "\n",
    "Microsoft's Phi-3 - a family of open AI models developed by Microsoft. Phi-3 models are the most capable and cost-effective small language models (SLMs) available, outperforming models of the same size and next size up across a variety of language, reasoning, coding, and math benchmarks"
   ]
  },
  {
   "cell_type": "code",
   "execution_count": 23,
   "id": "33002d73",
   "metadata": {
    "scrolled": true
   },
   "outputs": [
    {
     "name": "stdout",
     "output_type": "stream",
     "text": [
      "\n",
      "Model: phi3 - Processing ./images/ms_welcome.png\n",
      "\n",
      " As I am an AI developed by Microsoft, I don't have access to external content such as images or personal data unless they are shared directly with me within our conversation. Therefore, I cannot physically view or describe any specific picture labeled [img-0]. However, if you provide a textual description of the image—what it depicts and important details like colors, objects present in the scene, people's expressions on their faces (if applicable), background context—I can certainly help craft an imaginative response to describe what such an image might be portraying.\n",
      "\n",
      "If you have a text-based description of \"img-0\" that you would like me to elaborate upon or create from scratch, feel free to share the details here!"
     ]
    }
   ],
   "source": [
    "prompt1=\"Describe this image and make sure to include anything notable about it (include text you see in the image):\" \n",
    "\n",
    "for image_file in image_files:\n",
    "#     if image_file not in df['image_file'].values:\n",
    "        process_image(image_file, \"phi3\", prompt1)"
   ]
  },
  {
   "cell_type": "code",
   "execution_count": 12,
   "id": "7a687230",
   "metadata": {},
   "outputs": [
    {
     "name": "stdout",
     "output_type": "stream",
     "text": [
      "\n",
      "Model: phi3 - Processing ./images/ms_welcome.png\n",
      "\n",
      " The provided illustration depicts a webpage design for an online bookstore named \"Aurum Bibliotheca.\" At the top-left corner lies the navigation bar with rich brownish hues that stand out due to its contrast against the more subdued background colors of lavender and white. It is prominently positioned at coordinates (20, 50) in pixels from the left edge of the browser window on a standard monitor resolution setting such as 1920x1080 pixels.\n",
      "\n",
      "Diving deeper into detail within this navigation bar are three main elements: 'Home,' which is highlighted with an arrow icon and has its text color set to electric blue, making it immediately noticeable; 'Shop' presented in a bold font style with gray-toned letters that give the impression of printed paper stock for enhanced realism on digital platforms. The third option, ‘About Us,’ shows as greyish black characters against an off-white background and is less emphasized by design but still easily accessible to curious users navigating through this bookstore's virtual aisles.\n",
      "\n",
      "The main content area below the navigation bar spans from coordinates (250, 60) upward towards pixel coordinate 1480 on the right edge of the browser window while reaching down near pixel line 730 at the bottom – effectively occupying most central and visible space within a user's screen real estate. The background color here is a soft lavender shade that allows textual elements to stand out in white for maximum legibility, with grey accents providing visual hierarchy through size variations from headings (size 24) down to body copy at size 16 – ensuring the content stands readable and inviting. The 'Bestsellers' dropdown menu is presented as a vibrant orange list below each book category heading in dark gray font, making it easily distinguishable yet subordinate to categorical titles like \"Fiction\" or “Non-fiction,” which are written with black text on an off-white background and styled boldly for prominence.\n",
      "\n",
      "Finally, the footer of this webpage is positioned at coordinates (1500, 870) extending towards pixel line 930 at its bottom boundary – taking up a modest but significant portion across both widths in pixels on standard monitor resolution settings like Full HD displays or higher. It contains links to social media platforms and copyright information laid out as clickable white text against the light beige of background, with hover states changing colors subtly for user interaction feedback without distracting from content flow above – providing a sense of continuity across web experiences while offering additional resources beyond just books sold by Aurum Bibliotheca.\n",
      "\n",
      "[img-1]"
     ]
    }
   ],
   "source": [
    "prompt2='Describe this image in as much detail as possible within 3 paragraphs, focusing on the structure, position/coordinates, and color of ALL the different elements like text, images, menu items, links, etc.'\n",
    "\n",
    "for image_file in image_files:\n",
    "#     if image_file not in df['image_file'].values:\n",
    "        process_image(image_file, \"phi3\", prompt2)"
   ]
  },
  {
   "cell_type": "code",
   "execution_count": 8,
   "id": "357ee6e2",
   "metadata": {},
   "outputs": [
    {
     "name": "stdout",
     "output_type": "stream",
     "text": [
      "\n",
      "Model: phi3 - Processing ./images/ms_welcome.png\n",
      "\n",
      " This digital interface showcases a user-friendly web page with clear navigation and engaging design elements that facilitate ease of access for its users. The overall background is light gray (#F0F8FF), providing an uncluttered canvas which makes the content stand out effectively.\n",
      "\n",
      "At the top right corner, there's a prominent 'Search Bar', prominently displayed in white text on this neutral backdrop with rounded corners for visual appeal and easy accessibility from any position within its bounds (x: 70px to x+250 px; y: 15px to y+30px). Below the search bar, you find a 'Logo' of the website. It is represented as an image with coordinates at about 680px from left and approximately centered vertically on the screen due to its height being set near half of that (around x:450px; y:230px). The logo adopts a vibrant color scheme in contrast, primarily using shades of blue which can evoke feelings of trustworthiness.\n",
      "\n",
      "Moving downwards is an array of 'Menu Items'. These are arranged horizontally across the page and include options like \"Home,\" \"Products,\" \"Services,\" “Contact Us,” and more. Each menu item has a distinctive hover effect that highlights it in gold with bold white text, which appears at coordinates x: 250px to x+600 px; y:480px upwards for each successive option (starting from \"Home\" as the first). The links are underlined and have a small arrow symbol next to them.\n",
      "\n",
      "Below this menu lies an 'About Us' section with coordinates at around 350px horizontally, starting y:620px upwards on screen—a rich blues shade fills its background (x:190px;y:780px), and it contains a small image of the company head in darker blue attire. Text is positioned with white serif font for an elegant touch, emphasizing information about their mission statement which can be found at y+35 pixels downwards from topmost section start (x:190px;y:780px).\n",
      "\n",
      "To the right of this segment lies a 'Testimonials' area. It consists of rectangular quotations displayed on individual cards in gold with white text, each card containing an image and name at coordinates x+645 pixels horizontally from left side (x;y:190px to 260px downwards). A scrolling feature is present here for additional content.\n",
      "\n",
      "Finally, the bottom section has 'Newsletter Signup' with white text on a light orange background in coordinates x+845 pixels horizontally and y starting at about screen’s center-bottom point (x:900px;y:730px). The sign up button appears larger than other elements, suggesting its importance.\n",
      "\n",
      "Each of these components is designed to offer aesthetic appeal while ensuring the page remains navigable without overwhelming visitors with too much information or clutter at once."
     ]
    }
   ],
   "source": [
    "prompt3='Describe this image in as much detail as possible within 250 words, focusing on the text, position/coordinates/navigation, color, etc. of ALL the different components like text, images, menu items, links, etc.'\n",
    "\n",
    "for image_file in image_files:\n",
    "#     if image_file not in df['image_file'].values:\n",
    "        process_image(image_file, \"phi3\", prompt3)"
   ]
  },
  {
   "cell_type": "code",
   "execution_count": 11,
   "id": "34668992",
   "metadata": {},
   "outputs": [
    {
     "name": "stdout",
     "output_type": "stream",
     "text": [
      "\n",
      "Model: phi3 - Processing ./images/ms_welcome.png\n",
      "\n",
      " The provided document appears to be a web page with several interactive elements that are crucial for user navigation and understanding content. At the top right corner is an image labeled \"img-0,\" which seems to serve as either decoration or possibly related imagery pertinent to the website's theme, although its specific function isn't clear from this excerpt alone.\n",
      "\n",
      "The header of the page contains a prominent navigation menu with links that are likely primary pathways for site exploration: Home (#), About Us (#about_us), Services (#services), Contact (#contact). These hyperlinks, which would typically be underlined and colored blue or another contrasting color to indicate interactivity when hovered over by a mouse cursor in an actual webpage scenario, are essential for guiding users through the site's content.\n",
      "\n",
      "Below this header is text that likely serves as either introductory information about the website or detailed descriptions of services offered—this could be formatted with headings and subheadings to organize topics like \"Our Services,\" which includes a bulleted list detailing specific offerings such as consultation, customization options for various projects (e.g., wedding planning), pricing information denoted by bold text or icons suggesting affordability (\"$\"), payment methods including credit cards and online bank transfers indicated with buttons that would visually stand out when hovered over, possibly changing color to signify clickable action—and a footer containing copyright notice (© 2019) along with social media links.\n",
      "\n",
      "The website's design appears professional yet inviting; the use of whitespace and clear sectioning suggests an emphasis on readability and user-friendliness, which are key components in modern web design practices aimed at enhancing visitor experience. The color scheme likely complements this by using a harmonious palette that draws attention to important elements without overwhelming the viewer—perhaps with accents of green or blue for trust and calmness associated with services like consultation, customization, and pricing transparency.\n",
      "\n",
      "The footer's social media icons would be designed as clickable links leading directly to profiles on platforms such as Facebook (fb-icon), Twitter (@twitter_handle), Instagram (ig-icon), Youtube (yt-icon), LinkedIn (ln-icon), suggesting the website is active across multiple channels, which can help build a community and foster engagement.\n",
      "\n",
      "Overall, this image represents an interactive web page designed to be user-friendly with clear navigation paths that guide visitors through various sections of information about services offered by the business or organization represented on the site. The design choices made here are intended to make users feel informed and comfortable while exploring online content related to consultation, customization options for projects like weddings, pricing transparency, payment methods, social media engagement opportunities, copyright acknowledgment, and contact information—all within a visually appealing structure that balances professionalism with approachability."
     ]
    }
   ],
   "source": [
    "# LOWER THE TEMPERATURE:\n",
    "for image_file in image_files:\n",
    "#     if image_file not in df['image_file'].values:\n",
    "        process_image(image_file, \"phi3\", prompt3, 0.3)"
   ]
  },
  {
   "cell_type": "markdown",
   "id": "dddaaff0",
   "metadata": {},
   "source": [
    "#### ANALYSIS\n",
    "\n",
    "ACCURATE:\n",
    "- menu items: About Us (#about_us)\n",
    "\n",
    "INACCURATE:\n",
    "- hallucinations: \n",
    "    - img-0\n",
    "    - menu items: Home (#), Services (#services), Contact (#contact) -- claims they are in blue text (instead of black..)\n",
    "    - NO mention of the large image and its contents\n",
    "    - claims \"Our Services,\" which includes a bulleted list detailing specific offerings such as consultation, customization options for various projects (e.g., wedding planning), pricing information denoted by bold text or icons suggesting affordability (\"$\"), payment methods including credit cards and online bank transfers indicated with buttons that would visually stand out when hovered over, possibly changing color to signify \n",
    "    - (© 2019) along with social media links\n",
    "    - no green?\n",
    "    - footer's social media icons??\n",
    "    \n",
    "OVERALL ANALYSIS: \n",
    "ENTIRELY HALLUCINATED CONTENT (seems to be describing a shopping website)\n",
    "\n",
    "POSSIBLE CAUSES: \n",
    "Image processing \n",
    "\n",
    "##### GENERAL OBSERVATIONS/PATTERNS\n",
    "- Much FASTER response generation! (truly lightweight)\n",
    "- VERY detailed (the most detailed response out of BLIP-2, LLaVA, LLaVA-Phi3) -- able to mention exact coordinates and colors\n",
    "- OVERALL: even though LLaVA-Phi33 is very detailed, it is also THE MOST INACCURATE out of all the other models tested -- BECAUSE IT'S NOT MULTI-MODAL"
   ]
  },
  {
   "cell_type": "code",
   "execution_count": 22,
   "id": "aef6e20b",
   "metadata": {
    "scrolled": false
   },
   "outputs": [
    {
     "name": "stdout",
     "output_type": "stream",
     "text": [
      "\n",
      "Model: phi3 - Processing ./images/ms_welcome.png\n",
      "\n",
      " The provided description cannot be completed due to a lack of an actual image or its details such as coordinates and navigation elements within this context. To accurately describe any visual content in detail, specific information about each element present is required—such as the positioning on the page (e.g., top right corner), color schemes used for text versus backgrounds, font styles employed throughout various components like headings or body copy, and navigation elements such as menus with their respective items listed along with any associated images that might accompany them.\n",
      "\n",
      "In a typical scenario where an image is provided containing these details, the description would include: \n",
      "- The exact coordinates of each element on the page (e.g., \"The 'Home' menu item located at top left corner [x1, y1] to [x2, y2]).\"\n",
      "- Descriptions of colors used for text and backgrounds (\"Text is in dark grey with a light blue accent color\").\n",
      "- Font styles applied across different components (e.g., \"Headings are bold sans serif while body copy uses a clean, readable font like Arial or Helvetica.\").\n",
      "- Navigation elements described by their positioning and content (e.g., \"The navigation bar is horizontal at the top of the page with links to 'Home', 'About Us', 'Services', and 'Contact'\").\n",
      "- Any images associated with menu items, including size, color overlay if present, and captions or alt text descriptions (\"A small icon next to each link representing a house for 'Home', an envelope symbolizing mailboxes under the 'Contact' option.\").\n",
      "- Interactive elements like buttons are described by their appearance (e.g., \"The call-to-action button is bright red with white lettering, located prominently at the center of the page\").\n",
      "\n",
      "Without a specific image to analyze and describe in detail within 250 words focusing on text position/coordinates/navigation as requested, it's not possible to complete this task accurately. If you can provide an actual visual or its detailed description, I would be happy to assist with the completion of your request."
     ]
    }
   ],
   "source": [
    "# LOWER THE TEMPERATURE:\n",
    "for image_file in image_files:\n",
    "#     if image_file not in df['image_file'].values:\n",
    "        process_image(image_file, \"phi3\", prompt3, 0.0)"
   ]
  },
  {
   "cell_type": "markdown",
   "id": "038cf8b0",
   "metadata": {},
   "source": [
    "## (Attempt with Running HUGGINGFACE locally - WIP)"
   ]
  },
  {
   "cell_type": "code",
   "execution_count": 4,
   "id": "98c642c6",
   "metadata": {},
   "outputs": [
    {
     "name": "stdout",
     "output_type": "stream",
     "text": [
      "\u001b[33mWARNING: Error parsing dependencies of pyodbc: Invalid version: '4.0.0-unsupported'\u001b[0m\u001b[33m\n",
      "\u001b[0m\u001b[33mWARNING: Error parsing dependencies of pyodbc: Invalid version: '4.0.0-unsupported'\u001b[0m\u001b[33m\n",
      "\u001b[0m"
     ]
    }
   ],
   "source": [
    "!pip install -q -U transformers #==4.37.2\n",
    "!pip install -q bitsandbytes accelerate #==0.41.3 accelerate==0.25.0"
   ]
  },
  {
   "cell_type": "code",
   "execution_count": 3,
   "id": "76e3df0b",
   "metadata": {},
   "outputs": [
    {
     "name": "stdout",
     "output_type": "stream",
     "text": [
      "Requirement already satisfied: pip in /opt/anaconda3/lib/python3.9/site-packages (23.3.1)\n",
      "Collecting pip\n",
      "  Downloading pip-24.1.2-py3-none-any.whl.metadata (3.6 kB)\n",
      "Downloading pip-24.1.2-py3-none-any.whl (1.8 MB)\n",
      "\u001b[2K   \u001b[90m━━━━━━━━━━━━━━━━━━━━━━━━━━━━━━━━━━━━━━━━\u001b[0m \u001b[32m1.8/1.8 MB\u001b[0m \u001b[31m4.2 MB/s\u001b[0m eta \u001b[36m0:00:00\u001b[0m00:01\u001b[0m00:01\u001b[0m\n",
      "\u001b[?25h\u001b[33mDEPRECATION: pyodbc 4.0.0-unsupported has a non-standard version number. pip 24.0 will enforce this behaviour change. A possible replacement is to upgrade to a newer version of pyodbc or contact the author to suggest that they release a version with a conforming version number. Discussion can be found at https://github.com/pypa/pip/issues/12063\u001b[0m\u001b[33m\n",
      "\u001b[0mInstalling collected packages: pip\n",
      "  Attempting uninstall: pip\n",
      "    Found existing installation: pip 23.3.1\n",
      "    Uninstalling pip-23.3.1:\n",
      "      Successfully uninstalled pip-23.3.1\n",
      "Successfully installed pip-24.1.2\n"
     ]
    }
   ],
   "source": [
    "!pip install --upgrade pip"
   ]
  },
  {
   "cell_type": "code",
   "execution_count": 5,
   "id": "fe16dd30",
   "metadata": {},
   "outputs": [
    {
     "name": "stderr",
     "output_type": "stream",
     "text": [
      "2024-07-23 17:06:08.263610: I tensorflow/core/platform/cpu_feature_guard.cc:182] This TensorFlow binary is optimized to use available CPU instructions in performance-critical operations.\n",
      "To enable the following instructions: AVX2 FMA, in other operations, rebuild TensorFlow with the appropriate compiler flags.\n"
     ]
    }
   ],
   "source": [
    "from PIL import Image\n",
    "import requests\n",
    "from transformers import AutoProcessor, LlavaForConditionalGeneration"
   ]
  },
  {
   "cell_type": "code",
   "execution_count": null,
   "id": "ecb0ab77",
   "metadata": {},
   "outputs": [
    {
     "data": {
      "application/vnd.jupyter.widget-view+json": {
       "model_id": "24214ee0d0d24e1f8d323060420448fe",
       "version_major": 2,
       "version_minor": 0
      },
      "text/plain": [
       "config.json:   0%|          | 0.00/950 [00:00<?, ?B/s]"
      ]
     },
     "metadata": {},
     "output_type": "display_data"
    },
    {
     "data": {
      "application/vnd.jupyter.widget-view+json": {
       "model_id": "031e49c31045481a87a8ccf0649d71a4",
       "version_major": 2,
       "version_minor": 0
      },
      "text/plain": [
       "model.safetensors.index.json:   0%|          | 0.00/70.1k [00:00<?, ?B/s]"
      ]
     },
     "metadata": {},
     "output_type": "display_data"
    },
    {
     "data": {
      "application/vnd.jupyter.widget-view+json": {
       "model_id": "5060fbb24a4b4fea82589eab6bfe331a",
       "version_major": 2,
       "version_minor": 0
      },
      "text/plain": [
       "Downloading shards:   0%|          | 0/3 [00:00<?, ?it/s]"
      ]
     },
     "metadata": {},
     "output_type": "display_data"
    },
    {
     "data": {
      "application/vnd.jupyter.widget-view+json": {
       "model_id": "15f165a7f49d48aba83b34eaa2e9fd9b",
       "version_major": 2,
       "version_minor": 0
      },
      "text/plain": [
       "model-00001-of-00003.safetensors:   0%|          | 0.00/4.99G [00:00<?, ?B/s]"
      ]
     },
     "metadata": {},
     "output_type": "display_data"
    },
    {
     "data": {
      "application/vnd.jupyter.widget-view+json": {
       "model_id": "4d06515017b548f48e82aa8785579a42",
       "version_major": 2,
       "version_minor": 0
      },
      "text/plain": [
       "model-00002-of-00003.safetensors:   0%|          | 0.00/4.96G [00:00<?, ?B/s]"
      ]
     },
     "metadata": {},
     "output_type": "display_data"
    },
    {
     "data": {
      "application/vnd.jupyter.widget-view+json": {
       "model_id": "ae1d8aeb38b44a9bbebc3c0f9f4d583a",
       "version_major": 2,
       "version_minor": 0
      },
      "text/plain": [
       "model-00003-of-00003.safetensors:   0%|          | 0.00/4.18G [00:00<?, ?B/s]"
      ]
     },
     "metadata": {},
     "output_type": "display_data"
    },
    {
     "data": {
      "application/vnd.jupyter.widget-view+json": {
       "model_id": "47fe81f19df547ce89696d0a87e857ec",
       "version_major": 2,
       "version_minor": 0
      },
      "text/plain": [
       "Loading checkpoint shards:   0%|          | 0/3 [00:00<?, ?it/s]"
      ]
     },
     "metadata": {},
     "output_type": "display_data"
    }
   ],
   "source": [
    "model = LlavaForConditionalGeneration.from_pretrained(\"llava-hf/llava-1.5-7b-hf\")\n",
    "processor = AutoProcessor.from_pretrained(\"llava-hf/llava-1.5-7b-hf\")"
   ]
  },
  {
   "cell_type": "code",
   "execution_count": null,
   "id": "efc2f4f3",
   "metadata": {},
   "outputs": [],
   "source": [
    "prompt = \"USER: <image>\\nDescribe this image in as much detail as possible within 3 paragraphs, focusing on the text, structure, position/coordinates, and color of ALL the different elements like text, images, menu items, links, etc.\\nASSISTANT:\"\n",
    "# url = \"https://www.ilankelman.org/stopsigns/australia.jpg\"\n",
    "# image = Image.open(requests.get(url, stream=True).raw)\n",
    "image = Image.open(r\"/images/ms_welcome.png\")\n",
    "# display(image.resize((596, 437)))\n",
    "\n",
    "inputs = processor(text=prompt, images=image, return_tensors=\"pt\")"
   ]
  },
  {
   "cell_type": "code",
   "execution_count": null,
   "id": "dabbf825",
   "metadata": {},
   "outputs": [],
   "source": [
    "# Generate\n",
    "generate_ids = model.generate(**inputs, max_new_tokens=200)\n",
    "processor.batch_decode(generate_ids, skip_special_tokens=True, clean_up_tokenization_spaces=False)[0]"
   ]
  },
  {
   "cell_type": "code",
   "execution_count": null,
   "id": "a07c1822",
   "metadata": {},
   "outputs": [],
   "source": []
  }
 ],
 "metadata": {
  "kernelspec": {
   "display_name": "Python 3 (ipykernel)",
   "language": "python",
   "name": "python3"
  },
  "language_info": {
   "codemirror_mode": {
    "name": "ipython",
    "version": 3
   },
   "file_extension": ".py",
   "mimetype": "text/x-python",
   "name": "python",
   "nbconvert_exporter": "python",
   "pygments_lexer": "ipython3",
   "version": "3.9.7"
  }
 },
 "nbformat": 4,
 "nbformat_minor": 5
}
